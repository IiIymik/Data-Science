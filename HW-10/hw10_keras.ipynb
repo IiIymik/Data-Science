{
  "cells": [
    {
      "cell_type": "code",
      "execution_count": 15,
      "metadata": {
        "id": "GPCVHr6e_rr8"
      },
      "outputs": [],
      "source": [
        "import tensorflow as tf\n",
        "from tensorflow import keras\n",
        "import numpy as np\n",
        "import matplotlib.pyplot as plt\n",
        "from keras.datasets import fashion_mnist\n",
        "from keras.models import Sequential\n",
        "from keras.layers import Dense, Dropout, Conv2D, MaxPooling2D, Flatten\n",
        "from tensorflow.keras.utils import to_categorical"
      ]
    },
    {
      "cell_type": "markdown",
      "metadata": {
        "id": "8Sa2bWr9oOBn"
      },
      "source": [
        "Завантажуємо датасет"
      ]
    },
    {
      "cell_type": "code",
      "execution_count": 16,
      "metadata": {
        "id": "NCnYwC5VWJN0"
      },
      "outputs": [],
      "source": [
        "(train_data, train_labels), (test_data, test_labels) = fashion_mnist.load_data()\n",
        "names = ['T-shirt/top', 'Trouser', 'Pullover', 'Dress', 'Coat', 'Sandal', 'Shirt', 'Sneaker', 'Bag', 'Ankle boot']"
      ]
    },
    {
      "cell_type": "markdown",
      "metadata": {
        "id": "w964esMaoSLu"
      },
      "source": [
        "Дивимось данні"
      ]
    },
    {
      "cell_type": "code",
      "execution_count": 17,
      "metadata": {
        "colab": {
          "base_uri": "https://localhost:8080/"
        },
        "id": "dMDouWezKYwb",
        "outputId": "e99c6bcd-504f-4e99-ce92-c7daf663c9d5"
      },
      "outputs": [
        {
          "output_type": "stream",
          "name": "stdout",
          "text": [
            "(60000, 28, 28)\n",
            "(60000,)\n",
            "(10000, 28, 28)\n",
            "(28, 28)\n",
            "<class 'numpy.ndarray'>\n",
            "9\n",
            "<class 'numpy.uint8'>\n"
          ]
        }
      ],
      "source": [
        "print(train_data.shape)\n",
        "print(train_labels.shape)\n",
        "print(test_data.shape)\n",
        "print(train_data[0].shape)\n",
        "print(type(train_data[0]))\n",
        "print(train_labels[0])\n",
        "print(type(train_labels[0]))"
      ]
    },
    {
      "cell_type": "code",
      "execution_count": 18,
      "metadata": {
        "colab": {
          "base_uri": "https://localhost:8080/",
          "height": 182
        },
        "id": "QxxptQfXK1G7",
        "outputId": "c878aaa0-b6f7-40ae-cfdb-a89445138b12"
      },
      "outputs": [
        {
          "output_type": "display_data",
          "data": {
            "text/plain": [
              "<Figure size 1800x288 with 10 Axes>"
            ],
            "image/png": "[encoded data removed]"
          },
          "metadata": {
            "needs_background": "light"
          }
        }
      ],
      "source": [
        "fig, ax = plt.subplots(1, 10)\n",
        "fig.set_figwidth(25)\n",
        "\n",
        "for i, img in enumerate(train_data[:10]):\n",
        "  ax[i].imshow(img, cmap='Greys')\n",
        "  ax[i].title.set_text(names[train_labels[i]])\n"
      ]
    },
    {
      "cell_type": "markdown",
      "metadata": {
        "id": "iMrKPLskoeXZ"
      },
      "source": [
        "Підготовуємо данні"
      ]
    },
    {
      "cell_type": "code",
      "execution_count": 19,
      "metadata": {
        "id": "BGf6gQPBYmBj"
      },
      "outputs": [],
      "source": [
        "# image_size = train_data.shape[1]\n",
        "# input_size = image_size * image_size\n",
        "\n",
        "# train_data = np.reshape(train_data, [-1, input_size]).astype('float32') / 255.\n",
        "# test_data = np.reshape(test_data, [-1, input_size]).astype('float32') / 255.\n",
        "\n",
        "train_data = train_data.astype('float32') / 255.\n",
        "test_data = test_data.astype('float32') / 255.\n",
        "\n",
        "train_labels = to_categorical(train_labels, num_classes=10)\n",
        "test_labels = to_categorical(test_labels, num_classes=10)\n"
      ]
    },
    {
      "cell_type": "code",
      "source": [
        "print(train_labels[0])"
      ],
      "metadata": {
        "colab": {
          "base_uri": "https://localhost:8080/"
        },
        "id": "xbjfvwQnfcN8",
        "outputId": "b1154edc-f174-4def-8db3-189dc2326ea7"
      },
      "execution_count": 20,
      "outputs": [
        {
          "output_type": "stream",
          "name": "stdout",
          "text": [
            "[0. 0. 0. 0. 0. 0. 0. 0. 0. 1.]\n"
          ]
        }
      ]
    },
    {
      "cell_type": "code",
      "execution_count": 21,
      "metadata": {
        "colab": {
          "base_uri": "https://localhost:8080/"
        },
        "id": "OMDmMt6v-f7r",
        "outputId": "feb39744-bbb4-46f8-f642-5b6cab3c3c2c"
      },
      "outputs": [
        {
          "output_type": "stream",
          "name": "stdout",
          "text": [
            "(28, 28)\n",
            "[0. 1. 0. 0. 0. 0. 0. 0. 0. 0.]\n",
            "2\n"
          ]
        }
      ],
      "source": [
        "print(test_data[5].shape)\n",
        "print(test_labels[5])\n",
        "print(list(test_labels[5]).index(1)+1)"
      ]
    },
    {
      "cell_type": "markdown",
      "metadata": {
        "id": "4pS9CeAbztY-"
      },
      "source": [
        "Створюємо модель"
      ]
    },
    {
      "cell_type": "code",
      "execution_count": 22,
      "metadata": {
        "id": "l1_3FuLXoFYe",
        "colab": {
          "base_uri": "https://localhost:8080/"
        },
        "outputId": "bcb0671e-fd37-490e-816d-bb647e64c792"
      },
      "outputs": [
        {
          "output_type": "stream",
          "name": "stdout",
          "text": [
            "Model: \"sequential_3\"\n",
            "_________________________________________________________________\n",
            " Layer (type)                Output Shape              Param #   \n",
            "=================================================================\n",
            " conv2d_18 (Conv2D)          (None, 28, 28, 32)        320       \n",
            "                                                                 \n",
            " conv2d_19 (Conv2D)          (None, 28, 28, 32)        9248      \n",
            "                                                                 \n",
            " max_pooling2d_9 (MaxPooling  (None, 14, 14, 32)       0         \n",
            " 2D)                                                             \n",
            "                                                                 \n",
            " dropout_12 (Dropout)        (None, 14, 14, 32)        0         \n",
            "                                                                 \n",
            " conv2d_20 (Conv2D)          (None, 14, 14, 64)        18496     \n",
            "                                                                 \n",
            " conv2d_21 (Conv2D)          (None, 14, 14, 64)        36928     \n",
            "                                                                 \n",
            " max_pooling2d_10 (MaxPoolin  (None, 7, 7, 64)         0         \n",
            " g2D)                                                            \n",
            "                                                                 \n",
            " dropout_13 (Dropout)        (None, 7, 7, 64)          0         \n",
            "                                                                 \n",
            " conv2d_22 (Conv2D)          (None, 7, 7, 128)         73856     \n",
            "                                                                 \n",
            " conv2d_23 (Conv2D)          (None, 7, 7, 128)         147584    \n",
            "                                                                 \n",
            " max_pooling2d_11 (MaxPoolin  (None, 3, 3, 128)        0         \n",
            " g2D)                                                            \n",
            "                                                                 \n",
            " dropout_14 (Dropout)        (None, 3, 3, 128)         0         \n",
            "                                                                 \n",
            " flatten_3 (Flatten)         (None, 1152)              0         \n",
            "                                                                 \n",
            " dense_6 (Dense)             (None, 128)               147584    \n",
            "                                                                 \n",
            " dropout_15 (Dropout)        (None, 128)               0         \n",
            "                                                                 \n",
            " dense_7 (Dense)             (None, 10)                1290      \n",
            "                                                                 \n",
            "=================================================================\n",
            "Total params: 435,306\n",
            "Trainable params: 435,306\n",
            "Non-trainable params: 0\n",
            "_________________________________________________________________\n"
          ]
        }
      ],
      "source": [
        "nn = Sequential()\n",
        "nn.add(Conv2D(32, (3, 3), activation='relu', kernel_initializer='he_uniform', padding='same', input_shape=(28, 28, 1)))\n",
        "nn.add(Conv2D(32, (3, 3), activation='relu', kernel_initializer='he_uniform', padding='same'))\n",
        "nn.add(MaxPooling2D((2, 2)))\n",
        "nn.add(Dropout(0.2))\n",
        "nn.add(Conv2D(64, (3, 3), activation='relu', kernel_initializer='he_uniform', padding='same'))\n",
        "nn.add(Conv2D(64, (3, 3), activation='relu', kernel_initializer='he_uniform', padding='same'))\n",
        "nn.add(MaxPooling2D((2, 2)))\n",
        "nn.add(Dropout(0.2))\n",
        "nn.add(Conv2D(128, (3, 3), activation='relu', kernel_initializer='he_uniform', padding='same'))\n",
        "nn.add(Conv2D(128, (3, 3), activation='relu', kernel_initializer='he_uniform', padding='same'))\n",
        "nn.add(MaxPooling2D((2, 2)))\n",
        "nn.add(Dropout(0.2))\n",
        "nn.add(Flatten())\n",
        "nn.add(Dense(128, activation='relu', kernel_initializer='he_uniform'))\n",
        "nn.add(Dropout(0.3))\n",
        "nn.add(Dense(10, activation='softmax'))\n",
        "\n",
        "nn.compile(optimizer=keras.optimizers.SGD(learning_rate=0.001, momentum=0.9), loss='categorical_crossentropy', metrics=['accuracy'])\n",
        "nn.summary()"
      ]
    },
    {
      "cell_type": "markdown",
      "metadata": {
        "id": "gKoTAL0CJOQO"
      },
      "source": [
        "Тренуємо модель:"
      ]
    },
    {
      "cell_type": "code",
      "execution_count": 23,
      "metadata": {
        "colab": {
          "base_uri": "https://localhost:8080/"
        },
        "id": "IskHQNOOy9Om",
        "outputId": "8a85ee35-58f8-43bc-c775-f2faab8ffcf6"
      },
      "outputs": [
        {
          "output_type": "stream",
          "name": "stdout",
          "text": [
            "Epoch 1/100\n",
            "938/938 [==============================] - 11s 12ms/step - loss: 0.9650 - accuracy: 0.6478 - val_loss: 0.5566 - val_accuracy: 0.7951\n",
            "Epoch 2/100\n",
            "938/938 [==============================] - 9s 9ms/step - loss: 0.5941 - accuracy: 0.7800 - val_loss: 0.4702 - val_accuracy: 0.8251\n",
            "Epoch 3/100\n",
            "938/938 [==============================] - 7s 8ms/step - loss: 0.5171 - accuracy: 0.8114 - val_loss: 0.4174 - val_accuracy: 0.8466\n",
            "Epoch 4/100\n",
            "938/938 [==============================] - 7s 8ms/step - loss: 0.4674 - accuracy: 0.8301 - val_loss: 0.3911 - val_accuracy: 0.8576\n",
            "Epoch 5/100\n",
            "938/938 [==============================] - 8s 8ms/step - loss: 0.4319 - accuracy: 0.8417 - val_loss: 0.3634 - val_accuracy: 0.8677\n",
            "Epoch 6/100\n",
            "938/938 [==============================] - 7s 8ms/step - loss: 0.4056 - accuracy: 0.8524 - val_loss: 0.3410 - val_accuracy: 0.8750\n",
            "Epoch 7/100\n",
            "938/938 [==============================] - 7s 8ms/step - loss: 0.3848 - accuracy: 0.8600 - val_loss: 0.3393 - val_accuracy: 0.8757\n",
            "Epoch 8/100\n",
            "938/938 [==============================] - 7s 8ms/step - loss: 0.3711 - accuracy: 0.8647 - val_loss: 0.3220 - val_accuracy: 0.8801\n",
            "Epoch 9/100\n",
            "938/938 [==============================] - 7s 8ms/step - loss: 0.3535 - accuracy: 0.8704 - val_loss: 0.3090 - val_accuracy: 0.8870\n",
            "Epoch 10/100\n",
            "938/938 [==============================] - 7s 8ms/step - loss: 0.3433 - accuracy: 0.8749 - val_loss: 0.3073 - val_accuracy: 0.8855\n",
            "Epoch 11/100\n",
            "938/938 [==============================] - 8s 8ms/step - loss: 0.3318 - accuracy: 0.8796 - val_loss: 0.2951 - val_accuracy: 0.8931\n",
            "Epoch 12/100\n",
            "938/938 [==============================] - 7s 8ms/step - loss: 0.3204 - accuracy: 0.8840 - val_loss: 0.2883 - val_accuracy: 0.8942\n",
            "Epoch 13/100\n",
            "938/938 [==============================] - 7s 8ms/step - loss: 0.3168 - accuracy: 0.8845 - val_loss: 0.2846 - val_accuracy: 0.8936\n",
            "Epoch 14/100\n",
            "938/938 [==============================] - 7s 8ms/step - loss: 0.3093 - accuracy: 0.8870 - val_loss: 0.2754 - val_accuracy: 0.8994\n",
            "Epoch 15/100\n",
            "938/938 [==============================] - 7s 8ms/step - loss: 0.3010 - accuracy: 0.8898 - val_loss: 0.2825 - val_accuracy: 0.8971\n",
            "Epoch 16/100\n",
            "938/938 [==============================] - 7s 8ms/step - loss: 0.2944 - accuracy: 0.8917 - val_loss: 0.2755 - val_accuracy: 0.9003\n",
            "Epoch 17/100\n",
            "938/938 [==============================] - 7s 8ms/step - loss: 0.2919 - accuracy: 0.8937 - val_loss: 0.2695 - val_accuracy: 0.9025\n",
            "Epoch 18/100\n",
            "938/938 [==============================] - 7s 8ms/step - loss: 0.2842 - accuracy: 0.8958 - val_loss: 0.2568 - val_accuracy: 0.9052\n",
            "Epoch 19/100\n",
            "938/938 [==============================] - 7s 8ms/step - loss: 0.2773 - accuracy: 0.8982 - val_loss: 0.2574 - val_accuracy: 0.9071\n",
            "Epoch 20/100\n",
            "938/938 [==============================] - 7s 8ms/step - loss: 0.2726 - accuracy: 0.8997 - val_loss: 0.2551 - val_accuracy: 0.9078\n",
            "Epoch 21/100\n",
            "938/938 [==============================] - 7s 8ms/step - loss: 0.2694 - accuracy: 0.9021 - val_loss: 0.2518 - val_accuracy: 0.9095\n",
            "Epoch 22/100\n",
            "938/938 [==============================] - 7s 8ms/step - loss: 0.2670 - accuracy: 0.9023 - val_loss: 0.2501 - val_accuracy: 0.9098\n",
            "Epoch 23/100\n",
            "938/938 [==============================] - 7s 8ms/step - loss: 0.2611 - accuracy: 0.9045 - val_loss: 0.2459 - val_accuracy: 0.9108\n",
            "Epoch 24/100\n",
            "938/938 [==============================] - 7s 8ms/step - loss: 0.2568 - accuracy: 0.9059 - val_loss: 0.2508 - val_accuracy: 0.9090\n",
            "Epoch 25/100\n",
            "938/938 [==============================] - 7s 8ms/step - loss: 0.2550 - accuracy: 0.9065 - val_loss: 0.2428 - val_accuracy: 0.9135\n",
            "Epoch 26/100\n",
            "938/938 [==============================] - 7s 8ms/step - loss: 0.2495 - accuracy: 0.9074 - val_loss: 0.2322 - val_accuracy: 0.9163\n",
            "Epoch 27/100\n",
            "938/938 [==============================] - 7s 8ms/step - loss: 0.2471 - accuracy: 0.9092 - val_loss: 0.2386 - val_accuracy: 0.9155\n",
            "Epoch 28/100\n",
            "938/938 [==============================] - 7s 8ms/step - loss: 0.2425 - accuracy: 0.9117 - val_loss: 0.2315 - val_accuracy: 0.9167\n",
            "Epoch 29/100\n",
            "938/938 [==============================] - 7s 8ms/step - loss: 0.2424 - accuracy: 0.9115 - val_loss: 0.2322 - val_accuracy: 0.9160\n",
            "Epoch 30/100\n",
            "938/938 [==============================] - 8s 9ms/step - loss: 0.2379 - accuracy: 0.9133 - val_loss: 0.2297 - val_accuracy: 0.9169\n",
            "Epoch 31/100\n",
            "938/938 [==============================] - 7s 8ms/step - loss: 0.2343 - accuracy: 0.9135 - val_loss: 0.2304 - val_accuracy: 0.9186\n",
            "Epoch 32/100\n",
            "938/938 [==============================] - 7s 8ms/step - loss: 0.2311 - accuracy: 0.9152 - val_loss: 0.2273 - val_accuracy: 0.9161\n",
            "Epoch 33/100\n",
            "938/938 [==============================] - 7s 8ms/step - loss: 0.2311 - accuracy: 0.9152 - val_loss: 0.2273 - val_accuracy: 0.9174\n",
            "Epoch 34/100\n",
            "938/938 [==============================] - 7s 8ms/step - loss: 0.2285 - accuracy: 0.9161 - val_loss: 0.2237 - val_accuracy: 0.9210\n",
            "Epoch 35/100\n",
            "938/938 [==============================] - 7s 8ms/step - loss: 0.2261 - accuracy: 0.9171 - val_loss: 0.2242 - val_accuracy: 0.9195\n",
            "Epoch 36/100\n",
            "938/938 [==============================] - 7s 8ms/step - loss: 0.2235 - accuracy: 0.9188 - val_loss: 0.2206 - val_accuracy: 0.9202\n",
            "Epoch 37/100\n",
            "938/938 [==============================] - 7s 8ms/step - loss: 0.2206 - accuracy: 0.9188 - val_loss: 0.2201 - val_accuracy: 0.9215\n",
            "Epoch 38/100\n",
            "938/938 [==============================] - 7s 8ms/step - loss: 0.2200 - accuracy: 0.9188 - val_loss: 0.2223 - val_accuracy: 0.9206\n",
            "Epoch 39/100\n",
            "938/938 [==============================] - 7s 8ms/step - loss: 0.2190 - accuracy: 0.9202 - val_loss: 0.2168 - val_accuracy: 0.9228\n",
            "Epoch 40/100\n",
            "938/938 [==============================] - 7s 8ms/step - loss: 0.2140 - accuracy: 0.9207 - val_loss: 0.2159 - val_accuracy: 0.9230\n",
            "Epoch 41/100\n",
            "938/938 [==============================] - 7s 8ms/step - loss: 0.2119 - accuracy: 0.9216 - val_loss: 0.2162 - val_accuracy: 0.9232\n",
            "Epoch 42/100\n",
            "938/938 [==============================] - 7s 8ms/step - loss: 0.2096 - accuracy: 0.9223 - val_loss: 0.2137 - val_accuracy: 0.9252\n",
            "Epoch 43/100\n",
            "938/938 [==============================] - 7s 8ms/step - loss: 0.2090 - accuracy: 0.9234 - val_loss: 0.2148 - val_accuracy: 0.9239\n",
            "Epoch 44/100\n",
            "938/938 [==============================] - 7s 8ms/step - loss: 0.2078 - accuracy: 0.9238 - val_loss: 0.2095 - val_accuracy: 0.9249\n",
            "Epoch 45/100\n",
            "938/938 [==============================] - 7s 8ms/step - loss: 0.2051 - accuracy: 0.9243 - val_loss: 0.2114 - val_accuracy: 0.9250\n",
            "Epoch 46/100\n",
            "938/938 [==============================] - 7s 8ms/step - loss: 0.2025 - accuracy: 0.9253 - val_loss: 0.2079 - val_accuracy: 0.9262\n",
            "Epoch 47/100\n",
            "938/938 [==============================] - 7s 8ms/step - loss: 0.2009 - accuracy: 0.9259 - val_loss: 0.2103 - val_accuracy: 0.9248\n",
            "Epoch 48/100\n",
            "938/938 [==============================] - 7s 8ms/step - loss: 0.2004 - accuracy: 0.9262 - val_loss: 0.2074 - val_accuracy: 0.9257\n",
            "Epoch 49/100\n",
            "938/938 [==============================] - 7s 8ms/step - loss: 0.1990 - accuracy: 0.9262 - val_loss: 0.2064 - val_accuracy: 0.9280\n",
            "Epoch 50/100\n",
            "938/938 [==============================] - 7s 8ms/step - loss: 0.1980 - accuracy: 0.9271 - val_loss: 0.2043 - val_accuracy: 0.9258\n",
            "Epoch 51/100\n",
            "938/938 [==============================] - 7s 8ms/step - loss: 0.1938 - accuracy: 0.9290 - val_loss: 0.2065 - val_accuracy: 0.9259\n",
            "Epoch 52/100\n",
            "938/938 [==============================] - 7s 8ms/step - loss: 0.1930 - accuracy: 0.9284 - val_loss: 0.2036 - val_accuracy: 0.9273\n",
            "Epoch 53/100\n",
            "938/938 [==============================] - 7s 8ms/step - loss: 0.1899 - accuracy: 0.9304 - val_loss: 0.2109 - val_accuracy: 0.9252\n",
            "Epoch 54/100\n",
            "938/938 [==============================] - 7s 8ms/step - loss: 0.1904 - accuracy: 0.9286 - val_loss: 0.2065 - val_accuracy: 0.9276\n",
            "Epoch 55/100\n",
            "938/938 [==============================] - 8s 9ms/step - loss: 0.1884 - accuracy: 0.9311 - val_loss: 0.2050 - val_accuracy: 0.9281\n",
            "Epoch 56/100\n",
            "938/938 [==============================] - 7s 8ms/step - loss: 0.1870 - accuracy: 0.9296 - val_loss: 0.2048 - val_accuracy: 0.9281\n",
            "Epoch 57/100\n",
            "938/938 [==============================] - 7s 8ms/step - loss: 0.1856 - accuracy: 0.9308 - val_loss: 0.2052 - val_accuracy: 0.9274\n",
            "Epoch 58/100\n",
            "938/938 [==============================] - 7s 8ms/step - loss: 0.1831 - accuracy: 0.9329 - val_loss: 0.2046 - val_accuracy: 0.9273\n",
            "Epoch 59/100\n",
            "938/938 [==============================] - 7s 8ms/step - loss: 0.1832 - accuracy: 0.9320 - val_loss: 0.2023 - val_accuracy: 0.9272\n",
            "Epoch 60/100\n",
            "938/938 [==============================] - 7s 8ms/step - loss: 0.1826 - accuracy: 0.9323 - val_loss: 0.2020 - val_accuracy: 0.9293\n",
            "Epoch 61/100\n",
            "938/938 [==============================] - 7s 8ms/step - loss: 0.1777 - accuracy: 0.9334 - val_loss: 0.1995 - val_accuracy: 0.9280\n",
            "Epoch 62/100\n",
            "938/938 [==============================] - 7s 8ms/step - loss: 0.1782 - accuracy: 0.9336 - val_loss: 0.2024 - val_accuracy: 0.9286\n",
            "Epoch 63/100\n",
            "938/938 [==============================] - 7s 8ms/step - loss: 0.1767 - accuracy: 0.9340 - val_loss: 0.1978 - val_accuracy: 0.9307\n",
            "Epoch 64/100\n",
            "938/938 [==============================] - 7s 8ms/step - loss: 0.1764 - accuracy: 0.9339 - val_loss: 0.2011 - val_accuracy: 0.9281\n",
            "Epoch 65/100\n",
            "938/938 [==============================] - 7s 8ms/step - loss: 0.1734 - accuracy: 0.9358 - val_loss: 0.2008 - val_accuracy: 0.9300\n",
            "Epoch 66/100\n",
            "938/938 [==============================] - 7s 8ms/step - loss: 0.1748 - accuracy: 0.9360 - val_loss: 0.1975 - val_accuracy: 0.9313\n",
            "Epoch 67/100\n",
            "938/938 [==============================] - 7s 8ms/step - loss: 0.1755 - accuracy: 0.9351 - val_loss: 0.1993 - val_accuracy: 0.9297\n",
            "Epoch 68/100\n",
            "938/938 [==============================] - 7s 8ms/step - loss: 0.1696 - accuracy: 0.9373 - val_loss: 0.2029 - val_accuracy: 0.9307\n",
            "Epoch 69/100\n",
            "938/938 [==============================] - 7s 8ms/step - loss: 0.1674 - accuracy: 0.9383 - val_loss: 0.1949 - val_accuracy: 0.9306\n",
            "Epoch 70/100\n",
            "938/938 [==============================] - 7s 8ms/step - loss: 0.1699 - accuracy: 0.9370 - val_loss: 0.1956 - val_accuracy: 0.9305\n",
            "Epoch 71/100\n",
            "938/938 [==============================] - 7s 8ms/step - loss: 0.1678 - accuracy: 0.9372 - val_loss: 0.2021 - val_accuracy: 0.9302\n",
            "Epoch 72/100\n",
            "938/938 [==============================] - 7s 8ms/step - loss: 0.1661 - accuracy: 0.9371 - val_loss: 0.1956 - val_accuracy: 0.9317\n",
            "Epoch 73/100\n",
            "938/938 [==============================] - 7s 8ms/step - loss: 0.1644 - accuracy: 0.9390 - val_loss: 0.1992 - val_accuracy: 0.9305\n",
            "Epoch 74/100\n",
            "938/938 [==============================] - 7s 8ms/step - loss: 0.1632 - accuracy: 0.9393 - val_loss: 0.1969 - val_accuracy: 0.9307\n",
            "Epoch 75/100\n",
            "938/938 [==============================] - 7s 8ms/step - loss: 0.1634 - accuracy: 0.9393 - val_loss: 0.1958 - val_accuracy: 0.9306\n",
            "Epoch 76/100\n",
            "938/938 [==============================] - 7s 8ms/step - loss: 0.1612 - accuracy: 0.9388 - val_loss: 0.1976 - val_accuracy: 0.9298\n",
            "Epoch 77/100\n",
            "938/938 [==============================] - 7s 8ms/step - loss: 0.1613 - accuracy: 0.9395 - val_loss: 0.2009 - val_accuracy: 0.9306\n",
            "Epoch 78/100\n",
            "938/938 [==============================] - 7s 8ms/step - loss: 0.1581 - accuracy: 0.9410 - val_loss: 0.1984 - val_accuracy: 0.9323\n",
            "Epoch 79/100\n",
            "938/938 [==============================] - 7s 8ms/step - loss: 0.1583 - accuracy: 0.9409 - val_loss: 0.1989 - val_accuracy: 0.9314\n",
            "Epoch 80/100\n",
            "938/938 [==============================] - 7s 8ms/step - loss: 0.1553 - accuracy: 0.9420 - val_loss: 0.1962 - val_accuracy: 0.9332\n",
            "Epoch 81/100\n",
            "938/938 [==============================] - 8s 9ms/step - loss: 0.1567 - accuracy: 0.9413 - val_loss: 0.1976 - val_accuracy: 0.9316\n",
            "Epoch 82/100\n",
            "938/938 [==============================] - 7s 8ms/step - loss: 0.1550 - accuracy: 0.9424 - val_loss: 0.1930 - val_accuracy: 0.9329\n",
            "Epoch 83/100\n",
            "938/938 [==============================] - 7s 8ms/step - loss: 0.1531 - accuracy: 0.9427 - val_loss: 0.1978 - val_accuracy: 0.9330\n",
            "Epoch 84/100\n",
            "938/938 [==============================] - 7s 8ms/step - loss: 0.1537 - accuracy: 0.9426 - val_loss: 0.1962 - val_accuracy: 0.9335\n",
            "Epoch 85/100\n",
            "938/938 [==============================] - 7s 8ms/step - loss: 0.1519 - accuracy: 0.9431 - val_loss: 0.1953 - val_accuracy: 0.9327\n",
            "Epoch 86/100\n",
            "938/938 [==============================] - 7s 8ms/step - loss: 0.1493 - accuracy: 0.9440 - val_loss: 0.1964 - val_accuracy: 0.9334\n",
            "Epoch 87/100\n",
            "938/938 [==============================] - 7s 8ms/step - loss: 0.1491 - accuracy: 0.9441 - val_loss: 0.1966 - val_accuracy: 0.9317\n",
            "Epoch 88/100\n",
            "938/938 [==============================] - 7s 8ms/step - loss: 0.1495 - accuracy: 0.9435 - val_loss: 0.2011 - val_accuracy: 0.9311\n",
            "Epoch 89/100\n",
            "938/938 [==============================] - 7s 8ms/step - loss: 0.1475 - accuracy: 0.9431 - val_loss: 0.2014 - val_accuracy: 0.9336\n",
            "Epoch 90/100\n",
            "938/938 [==============================] - 7s 8ms/step - loss: 0.1464 - accuracy: 0.9444 - val_loss: 0.1938 - val_accuracy: 0.9307\n",
            "Epoch 91/100\n",
            "938/938 [==============================] - 7s 8ms/step - loss: 0.1451 - accuracy: 0.9455 - val_loss: 0.1963 - val_accuracy: 0.9336\n",
            "Epoch 92/100\n",
            "938/938 [==============================] - 7s 8ms/step - loss: 0.1454 - accuracy: 0.9459 - val_loss: 0.1968 - val_accuracy: 0.9329\n",
            "Epoch 93/100\n",
            "938/938 [==============================] - 7s 8ms/step - loss: 0.1419 - accuracy: 0.9461 - val_loss: 0.1999 - val_accuracy: 0.9326\n",
            "Epoch 94/100\n",
            "938/938 [==============================] - 7s 8ms/step - loss: 0.1403 - accuracy: 0.9474 - val_loss: 0.2001 - val_accuracy: 0.9333\n",
            "Epoch 95/100\n",
            "938/938 [==============================] - 7s 8ms/step - loss: 0.1409 - accuracy: 0.9473 - val_loss: 0.2059 - val_accuracy: 0.9289\n",
            "Epoch 96/100\n",
            "938/938 [==============================] - 7s 8ms/step - loss: 0.1446 - accuracy: 0.9458 - val_loss: 0.1957 - val_accuracy: 0.9351\n",
            "Epoch 97/100\n",
            "938/938 [==============================] - 7s 8ms/step - loss: 0.1385 - accuracy: 0.9476 - val_loss: 0.1900 - val_accuracy: 0.9346\n",
            "Epoch 98/100\n",
            "938/938 [==============================] - 7s 8ms/step - loss: 0.1391 - accuracy: 0.9482 - val_loss: 0.1931 - val_accuracy: 0.9317\n",
            "Epoch 99/100\n",
            "938/938 [==============================] - 7s 8ms/step - loss: 0.1382 - accuracy: 0.9484 - val_loss: 0.1970 - val_accuracy: 0.9338\n",
            "Epoch 100/100\n",
            "938/938 [==============================] - 7s 8ms/step - loss: 0.1380 - accuracy: 0.9478 - val_loss: 0.1967 - val_accuracy: 0.9360\n"
          ]
        }
      ],
      "source": [
        "history = nn.fit(\n",
        "    train_data,\n",
        "    train_labels,\n",
        "    epochs=100,\n",
        "    batch_size=64,\n",
        "    validation_data=(test_data, test_labels)\n",
        ")"
      ]
    },
    {
      "cell_type": "code",
      "execution_count": 26,
      "metadata": {
        "id": "1AKq3N8W5ovM",
        "colab": {
          "base_uri": "https://localhost:8080/"
        },
        "outputId": "fe4a7a81-4015-4ec8-b510-bebd4fec35e9"
      },
      "outputs": [
        {
          "output_type": "stream",
          "name": "stdout",
          "text": [
            "313/313 [==============================] - 2s 5ms/step - loss: 0.1967 - accuracy: 0.9360\n",
            "Test loss: 0.1966794729232788\n",
            "Test accuracy: 93.60%\n"
          ]
        }
      ],
      "source": [
        "score = nn.evaluate(test_data, test_labels)\n",
        "print('Test loss:', score[0])\n",
        "print(f'Test accuracy: {score[1]*100:.2f}%')"
      ]
    },
    {
      "cell_type": "code",
      "execution_count": 27,
      "metadata": {
        "id": "E9nKOXLq6oxF",
        "colab": {
          "base_uri": "https://localhost:8080/",
          "height": 590
        },
        "outputId": "1b263899-59f8-4861-d655-24bddb49d771"
      },
      "outputs": [
        {
          "output_type": "display_data",
          "data": {
            "text/plain": [
              "<Figure size 432x288 with 1 Axes>"
            ],
            "image/png": "[encoded data removed]"
          },
          "metadata": {
            "needs_background": "light"
          }
        },
        {
          "output_type": "execute_result",
          "data": {
            "text/plain": [
              "<matplotlib.legend.Legend at 0x7f7ae20f34d0>"
            ]
          },
          "metadata": {},
          "execution_count": 27
        },
        {
          "output_type": "display_data",
          "data": {
            "text/plain": [
              "<Figure size 432x288 with 1 Axes>"
            ],
            "image/png": "[encoded data removed]"
          },
          "metadata": {
            "needs_background": "light"
          }
        }
      ],
      "source": [
        "history_dict = history.history\n",
        "loss_values = history_dict['loss']\n",
        "val_loss_values = history_dict['val_loss']\n",
        "\n",
        "epochs = range(1, len(history_dict['accuracy']) + 1)\n",
        "\n",
        "plt.plot(epochs, loss_values, 'bo', label='Training loss')\n",
        "plt.plot(epochs, val_loss_values, 'b', label='Validation loss')\n",
        "plt.title('Training and validation loss')\n",
        "plt.xlabel('Epochs')\n",
        "plt.ylabel('Loss')\n",
        "plt.legend()\n",
        "plt.show()\n",
        "\n",
        "plt.clf()\n",
        "val_acc_values = history_dict['val_accuracy']\n",
        "plt.plot(epochs, history_dict['accuracy'], 'bo', label='Training acc')\n",
        "plt.plot(epochs, history_dict['val_accuracy'], 'b', label='Validation acc')\n",
        "plt.title('Training and validation accuracy')\n",
        "plt.xlabel('Epochs')\n",
        "plt.ylabel('Loss')\n",
        "plt.legend()"
      ]
    },
    {
      "cell_type": "code",
      "source": [],
      "metadata": {
        "id": "n9MjjyFMt6XT"
      },
      "execution_count": 25,
      "outputs": []
    }
  ],
  "metadata": {
    "accelerator": "GPU",
    "colab": {
      "collapsed_sections": [],
      "provenance": []
    },
    "gpuClass": "standard",
    "kernelspec": {
      "display_name": "Python 3",
      "name": "python3"
    },
    "language_info": {
      "name": "python"
    }
  },
  "nbformat": 4,
  "nbformat_minor": 0
}