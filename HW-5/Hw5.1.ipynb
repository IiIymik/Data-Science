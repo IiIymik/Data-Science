{
 "cells": [
  {
   "cell_type": "code",
   "execution_count": 2,
   "metadata": {
    "executionInfo": {
     "elapsed": 293,
     "status": "ok",
     "timestamp": 1658554945299,
     "user": {
      "displayName": "Oleksandr UTCHENKO",
      "userId": "08192551229335428030"
     },
     "user_tz": -180
    },
    "id": "qNhEgV-iQQiT"
   },
   "outputs": [],
   "source": [
    "from scipy.optimize import minimize\n",
    "import numpy as np\n",
    "import matplotlib.pyplot as plt"
   ]
  },
  {
   "cell_type": "code",
   "execution_count": 3,
   "metadata": {
    "executionInfo": {
     "elapsed": 36,
     "status": "ok",
     "timestamp": 1658554945540,
     "user": {
      "displayName": "Oleksandr UTCHENKO",
      "userId": "08192551229335428030"
     },
     "user_tz": -180
    },
    "id": "Tp-sYSEzQRdk"
   },
   "outputs": [],
   "source": [
    "def fence_length(x):\n",
    "  return x[0] + 2 * x[1]\n",
    "\n",
    "def con(x):\n",
    "  return x[0] * x[1] - 1000"
   ]
  },
  {
   "cell_type": "code",
   "execution_count": 4,
   "metadata": {
    "colab": {
     "base_uri": "https://localhost:8080/"
    },
    "executionInfo": {
     "elapsed": 35,
     "status": "ok",
     "timestamp": 1658554945541,
     "user": {
      "displayName": "Oleksandr UTCHENKO",
      "userId": "08192551229335428030"
     },
     "user_tz": -180
    },
    "id": "EVvevqhMQtjR",
    "outputId": "f0cc8c09-e5e7-42b5-ab69-70a02c91eb51"
   },
   "outputs": [
    {
     "data": {
      "text/plain": [
       "     fun: 89.44271933174403\n",
       "     jac: array([1., 2.])\n",
       " message: 'Optimization terminated successfully'\n",
       "    nfev: 71\n",
       "     nit: 18\n",
       "    njev: 18\n",
       "  status: 0\n",
       " success: True\n",
       "       x: array([44.7180441 , 22.36233761])"
      ]
     },
     "execution_count": 4,
     "metadata": {},
     "output_type": "execute_result"
    }
   ],
   "source": [
    "abounds = (1, None)\n",
    "bbounds = (1, None)\n",
    "bounds = (abounds, bbounds)\n",
    "cons = ({'type': 'eq', 'fun': con})\n",
    "result = minimize(fence_length, [1], bounds=bounds, method='slsqp', constraints=cons)\n",
    "result"
   ]
  },
  {
   "cell_type": "markdown",
   "metadata": {
    "id": "U79OE4N3XPRO"
   },
   "source": [
    "<center>Перевірка результатів оптимізації:</center>"
   ]
  },
  {
   "cell_type": "code",
   "execution_count": 5,
   "metadata": {
    "colab": {
     "base_uri": "https://localhost:8080/"
    },
    "executionInfo": {
     "elapsed": 28,
     "status": "ok",
     "timestamp": 1658554945542,
     "user": {
      "displayName": "Oleksandr UTCHENKO",
      "userId": "08192551229335428030"
     },
     "user_tz": -180
    },
    "id": "meBh92ooUaeK",
    "outputId": "8cfe9a5c-83d6-4c79-da3f-757d855a0895"
   },
   "outputs": [
    {
     "data": {
      "text/plain": [
       "999.9999996856658"
      ]
     },
     "execution_count": 5,
     "metadata": {},
     "output_type": "execute_result"
    }
   ],
   "source": [
    "minimized_square = result.x[0] * result.x[1]\n",
    "minimized_square"
   ]
  },
  {
   "cell_type": "code",
   "execution_count": 6,
   "metadata": {
    "colab": {
     "base_uri": "https://localhost:8080/"
    },
    "executionInfo": {
     "elapsed": 23,
     "status": "ok",
     "timestamp": 1658554945543,
     "user": {
      "displayName": "Oleksandr UTCHENKO",
      "userId": "08192551229335428030"
     },
     "user_tz": -180
    },
    "id": "Rn9opjKzWVmK",
    "outputId": "5b444e9f-2f1d-4d49-b7f4-ef4837575df3"
   },
   "outputs": [
    {
     "data": {
      "text/plain": [
       "89.44271933174403"
      ]
     },
     "execution_count": 6,
     "metadata": {},
     "output_type": "execute_result"
    }
   ],
   "source": [
    "minimized_fence_length_by_func = result.fun\n",
    "minimized_fence_length_by_func"
   ]
  },
  {
   "cell_type": "code",
   "execution_count": 7,
   "metadata": {
    "colab": {
     "base_uri": "https://localhost:8080/"
    },
    "executionInfo": {
     "elapsed": 17,
     "status": "ok",
     "timestamp": 1658554945543,
     "user": {
      "displayName": "Oleksandr UTCHENKO",
      "userId": "08192551229335428030"
     },
     "user_tz": -180
    },
    "id": "kizt48tcXCBz",
    "outputId": "709e983a-0dcd-4df0-9f83-d73d0d0e0fea"
   },
   "outputs": [
    {
     "data": {
      "text/plain": [
       "89.44271933174403"
      ]
     },
     "execution_count": 7,
     "metadata": {},
     "output_type": "execute_result"
    }
   ],
   "source": [
    "minimized_fence_length_manualy = result.x[0] + 2 * result.x[1]\n",
    "minimized_fence_length_manualy"
   ]
  },
  {
   "cell_type": "markdown",
   "metadata": {
    "id": "wCOFNvNRZmWS"
   },
   "source": [
    "Рандомний (10 у.о. Х 100 у.о.) варіант в 1000 у.о. квадратних має мати більшу довжину паркану ніж мінізований оптимізацієї:"
   ]
  },
  {
   "cell_type": "code",
   "execution_count": 8,
   "metadata": {
    "colab": {
     "base_uri": "https://localhost:8080/"
    },
    "executionInfo": {
     "elapsed": 13,
     "status": "ok",
     "timestamp": 1658554945544,
     "user": {
      "displayName": "Oleksandr UTCHENKO",
      "userId": "08192551229335428030"
     },
     "user_tz": -180
    },
    "id": "cWrJfgrPXNG6",
    "outputId": "381b0a07-a0c9-400b-d87d-ac8369f0183f"
   },
   "outputs": [
    {
     "name": "stdout",
     "output_type": "stream",
     "text": [
      "True\n"
     ]
    }
   ],
   "source": [
    "print(fence_length((10,100)) > result.fun) "
   ]
  },
  {
   "cell_type": "markdown",
   "metadata": {
    "id": "Oqj5vaKOZw0W"
   },
   "source": [
    "Відповідь: паркан зі сторонами 22,36 у.о. перпендикулярно річці і 44,72 у.о. вздовж річкі має найменшу довжину"
   ]
  },
  {
   "cell_type": "code",
   "execution_count": 9,
   "metadata": {
    "executionInfo": {
     "elapsed": 27,
     "status": "ok",
     "timestamp": 1658554945808,
     "user": {
      "displayName": "Oleksandr UTCHENKO",
      "userId": "08192551229335428030"
     },
     "user_tz": -180
    },
    "id": "rZUApsY5aIjO"
   },
   "outputs": [],
   "source": [
    "side = np.linspace(1, 100, 100)\n",
    "river_side = 1000 / side\n",
    "length = 2 * side + river_side"
   ]
  },
  {
   "cell_type": "code",
   "execution_count": 10,
   "metadata": {
    "colab": {
     "base_uri": "https://localhost:8080/",
     "height": 296
    },
    "executionInfo": {
     "elapsed": 820,
     "status": "ok",
     "timestamp": 1658555633386,
     "user": {
      "displayName": "Oleksandr UTCHENKO",
      "userId": "08192551229335428030"
     },
     "user_tz": -180
    },
    "id": "aoI6A7oej-bB",
    "outputId": "fcc4f890-0e4e-4c46-e2b9-7aa8094176d9"
   },
   "outputs": [
    {
     "data": {
      "image/png": "[encoded data removed]",
      "text/plain": [
       "<Figure size 432x288 with 1 Axes>"
      ]
     },
     "metadata": {
      "needs_background": "light"
     },
     "output_type": "display_data"
    }
   ],
   "source": [
    "fig, axs = plt.subplots()\n",
    "plt.title('Зміна довжина паркану на фоні залежності сторін одна від іншої ', fontsize=15)\n",
    "axs.plot(side, river_side, label='сторона вздовж річки')\n",
    "axs.plot(side, length, label='паркан')\n",
    "axs.plot(result.x[1], result.fun, label='min', marker=\"D\")\n",
    "plt.xlabel(\"Бокова сторона\", fontsize=\"small\", color=\"midnightblue\")\n",
    "plt.ylabel(\"Довжина\", fontsize=\"small\", color=\"midnightblue\")\n",
    "plt.legend()\n",
    "plt.show()"
   ]
  }
 ],
 "metadata": {
  "colab": {
   "authorship_tag": "ABX9TyNBiGIkgUrioC3NpvD1nZWd",
   "collapsed_sections": [],
   "name": "Hw5.1.ipynb",
   "provenance": []
  },
  "kernelspec": {
   "display_name": "Python 3 (ipykernel)",
   "language": "python",
   "name": "python3"
  },
  "language_info": {
   "codemirror_mode": {
    "name": "ipython",
    "version": 3
   },
   "file_extension": ".py",
   "mimetype": "text/x-python",
   "name": "python",
   "nbconvert_exporter": "python",
   "pygments_lexer": "ipython3",
   "version": "3.9.12"
  }
 },
 "nbformat": 4,
 "nbformat_minor": 1
}
