{
 "cells": [
  {
   "cell_type": "code",
   "execution_count": 1,
   "metadata": {
    "executionInfo": {
     "elapsed": 266,
     "status": "ok",
     "timestamp": 1659171401529,
     "user": {
      "displayName": "Oleksandr UTCHENKO",
      "userId": "08192551229335428030"
     },
     "user_tz": -180
    },
    "id": "RKqaFjuuzQXj"
   },
   "outputs": [],
   "source": [
    "import numpy as np\n",
    "from scipy.interpolate import interp1d\n",
    "import matplotlib.pyplot as plt\n",
    "from scipy.integrate import solve_ivp\n",
    "from scipy.optimize import leastsq"
   ]
  },
  {
   "cell_type": "code",
   "execution_count": 2,
   "metadata": {
    "executionInfo": {
     "elapsed": 33,
     "status": "ok",
     "timestamp": 1659171402092,
     "user": {
      "displayName": "Oleksandr UTCHENKO",
      "userId": "08192551229335428030"
     },
     "user_tz": -180
    },
    "id": "lQC4OHV3za0L"
   },
   "outputs": [],
   "source": [
    "a = 0.5\n",
    "b = 0.3\n",
    "n = 1000000\n",
    "s = 990000\n",
    "i = 7000\n",
    "r = 3000\n",
    "t0, tf = 0, 25\n",
    "timeline = np.linspace(0, 25, 25)"
   ]
  },
  {
   "cell_type": "code",
   "execution_count": 3,
   "metadata": {
    "colab": {
     "base_uri": "https://localhost:8080/"
    },
    "executionInfo": {
     "elapsed": 30,
     "status": "ok",
     "timestamp": 1659171402094,
     "user": {
      "displayName": "Oleksandr UTCHENKO",
      "userId": "08192551229335428030"
     },
     "user_tz": -180
    },
    "id": "s3Yf3c750h0S",
    "outputId": "faa0148c-94bc-401c-9f95-071e4ea25ec4"
   },
   "outputs": [
    {
     "data": {
      "text/plain": [
       "  message: 'The solver successfully reached the end of the integration interval.'\n",
       "     nfev: 98\n",
       "     njev: 0\n",
       "      nlu: 0\n",
       "      sol: <scipy.integrate._ivp.common.OdeSolution object at 0x000002014C3D7AF0>\n",
       "   status: 0\n",
       "  success: True\n",
       "        t: array([ 0.        ,  0.11486984,  1.26356819,  3.06043758,  4.8157449 ,\n",
       "        6.57363058,  8.33135596, 10.08909132, 11.84682607, 13.60456089,\n",
       "       15.36229578, 17.12003086, 18.87776637, 20.63550293, 22.39324202,\n",
       "       24.15098721, 25.        ])\n",
       " t_events: None\n",
       "        y: array([[9.90000000e+05, 9.34741505e+05, 5.26338915e+05, 2.14449863e+05,\n",
       "        8.92016780e+04, 3.70563463e+04, 1.53952532e+04, 6.39600686e+03,\n",
       "        2.65724217e+03, 1.10395999e+03, 4.58643792e+02, 1.90545047e+02,\n",
       "        7.91625391e+01, 3.28883086e+01, 1.36635268e+01, 5.67652784e+00,\n",
       "        3.71298656e+00]])\n",
       " y_events: None"
      ]
     },
     "execution_count": 3,
     "metadata": {},
     "output_type": "execute_result"
    }
   ],
   "source": [
    "def dsdt(t, s):\n",
    "    return - a * s\n",
    "\n",
    "\n",
    "soln = solve_ivp(dsdt, (t0, tf), [s], dense_output=True)\n",
    "soln"
   ]
  },
  {
   "cell_type": "code",
   "execution_count": 4,
   "metadata": {
    "colab": {
     "base_uri": "https://localhost:8080/",
     "height": 276
    },
    "executionInfo": {
     "elapsed": 576,
     "status": "ok",
     "timestamp": 1659171402650,
     "user": {
      "displayName": "Oleksandr UTCHENKO",
      "userId": "08192551229335428030"
     },
     "user_tz": -180
    },
    "id": "ggnX9ZMO4KKu",
    "outputId": "53132b29-11eb-48fb-f50e-f6ddf1669e4a"
   },
   "outputs": [
    {
     "data": {
      "image/png": "[encoded data removed]",
      "text/plain": [
       "<Figure size 432x288 with 1 Axes>"
      ]
     },
     "metadata": {
      "needs_background": "light"
     },
     "output_type": "display_data"
    }
   ],
   "source": [
    "ts, ys = soln.t, soln.y[0]\n",
    "plt.plot(ts, ys, 'o', color='k', label='solve_ivp')\n",
    "plt.plot(ts, ys, color='blue', label='Interpolation')\n",
    "plt.legend()\n",
    "plt.show()"
   ]
  },
  {
   "cell_type": "code",
   "execution_count": 5,
   "metadata": {
    "colab": {
     "base_uri": "https://localhost:8080/"
    },
    "executionInfo": {
     "elapsed": 37,
     "status": "ok",
     "timestamp": 1659171402660,
     "user": {
      "displayName": "Oleksandr UTCHENKO",
      "userId": "08192551229335428030"
     },
     "user_tz": -180
    },
    "id": "MpI0KO864fqO",
    "outputId": "b155bc04-c03d-4398-baf4-2b9c4574dd0d"
   },
   "outputs": [
    {
     "data": {
      "text/plain": [
       "  message: 'The solver successfully reached the end of the integration interval.'\n",
       "     nfev: 80\n",
       "     njev: 0\n",
       "      nlu: 0\n",
       "      sol: <scipy.integrate._ivp.common.OdeSolution object at 0x000002014CBCC610>\n",
       "   status: 0\n",
       "  success: True\n",
       "        t: array([0.00000000e+00, 6.07164542e-03, 6.67880996e-02, 6.73952641e-01,\n",
       "       2.35160376e+00, 4.34918741e+00, 6.82741053e+00, 1.02093457e+01,\n",
       "       1.33074113e+01, 1.64054770e+01, 1.94241156e+01, 2.23975207e+01,\n",
       "       2.50000000e+01])\n",
       " t_events: None\n",
       "        y: array([[  3000.        ,   5992.7147686 ,  35129.32194336,\n",
       "        257413.79010901, 460008.75224344, 390800.42026386,\n",
       "        238121.15512888, 100912.45325936,  42603.5851418 ,\n",
       "         17413.25961244,   7168.89866187,   2967.18453735,\n",
       "          1365.77405316]])\n",
       " y_events: None"
      ]
     },
     "execution_count": 5,
     "metadata": {},
     "output_type": "execute_result"
    }
   ],
   "source": [
    "def didt(t, i):\n",
    "    return a*soln.sol(t)-b*i\n",
    "\n",
    "\n",
    "soln_i = solve_ivp(didt, (t0, tf), [r], dense_output=True)\n",
    "soln_i"
   ]
  },
  {
   "cell_type": "code",
   "execution_count": 6,
   "metadata": {
    "colab": {
     "base_uri": "https://localhost:8080/",
     "height": 265
    },
    "executionInfo": {
     "elapsed": 33,
     "status": "ok",
     "timestamp": 1659171402661,
     "user": {
      "displayName": "Oleksandr UTCHENKO",
      "userId": "08192551229335428030"
     },
     "user_tz": -180
    },
    "id": "sMhmBGvb7OjW",
    "outputId": "83580233-b8b3-49a5-c624-b63b568fbd4b"
   },
   "outputs": [
    {
     "data": {
      "image/png": "[encoded data removed]",
      "text/plain": [
       "<Figure size 432x288 with 1 Axes>"
      ]
     },
     "metadata": {
      "needs_background": "light"
     },
     "output_type": "display_data"
    }
   ],
   "source": [
    "ti, yi = soln_i.t, soln_i.y[0]\n",
    "plt.plot(ti, yi, 'o', color='k', label='solve_ivp')\n",
    "plt.plot(ti, yi, color='blue', label='Interpolation')\n",
    "plt.legend()\n",
    "plt.show()"
   ]
  },
  {
   "cell_type": "code",
   "execution_count": 7,
   "metadata": {
    "colab": {
     "base_uri": "https://localhost:8080/"
    },
    "executionInfo": {
     "elapsed": 31,
     "status": "ok",
     "timestamp": 1659171402662,
     "user": {
      "displayName": "Oleksandr UTCHENKO",
      "userId": "08192551229335428030"
     },
     "user_tz": -180
    },
    "id": "s1QSTX0O7Zf9",
    "outputId": "c69bc556-52f5-4b67-df64-75cca60b9f0d"
   },
   "outputs": [
    {
     "data": {
      "text/plain": [
       "  message: 'The solver successfully reached the end of the integration interval.'\n",
       "     nfev: 38\n",
       "     njev: 0\n",
       "      nlu: 0\n",
       "      sol: <scipy.integrate._ivp.common.OdeSolution object at 0x000002014CC23580>\n",
       "   status: 0\n",
       "  success: True\n",
       "        t: array([ 0.        ,  0.04596173,  0.505579  ,  2.51970439,  6.36119025,\n",
       "       13.01333901, 25.        ])\n",
       " t_events: None\n",
       "        y: array([[  3000.        ,   3196.02435773,  20029.86654026,\n",
       "        253659.58885823, 690144.16139786, 948182.2410848 ,\n",
       "        994687.15476765]])\n",
       " y_events: None"
      ]
     },
     "execution_count": 7,
     "metadata": {},
     "output_type": "execute_result"
    }
   ],
   "source": [
    "def drdt(t, _):\n",
    "    return b*soln_i.sol(t)\n",
    "\n",
    "\n",
    "soln_r = solve_ivp(drdt, (t0, tf), [r], dense_output=True)\n",
    "soln_r"
   ]
  },
  {
   "cell_type": "code",
   "execution_count": 8,
   "metadata": {
    "colab": {
     "base_uri": "https://localhost:8080/",
     "height": 276
    },
    "executionInfo": {
     "elapsed": 26,
     "status": "ok",
     "timestamp": 1659171402664,
     "user": {
      "displayName": "Oleksandr UTCHENKO",
      "userId": "08192551229335428030"
     },
     "user_tz": -180
    },
    "id": "V29hdPRHkH9g",
    "outputId": "3900a990-5e65-4b9d-a85d-49a903f7b842"
   },
   "outputs": [
    {
     "data": {
      "image/png": "[encoded data removed]",
      "text/plain": [
       "<Figure size 432x288 with 1 Axes>"
      ]
     },
     "metadata": {
      "needs_background": "light"
     },
     "output_type": "display_data"
    }
   ],
   "source": [
    "tr, yr = soln_r.t, soln_r.y[0]\n",
    "plt.plot(tr, yr, 'o', color='k', label='solve_ivp')\n",
    "plt.plot(tr, yr, color='blue', label='Interpolation')\n",
    "plt.legend()\n",
    "plt.show()"
   ]
  },
  {
   "cell_type": "code",
   "execution_count": 9,
   "metadata": {
    "colab": {
     "base_uri": "https://localhost:8080/",
     "height": 296
    },
    "executionInfo": {
     "elapsed": 591,
     "status": "ok",
     "timestamp": 1659171403231,
     "user": {
      "displayName": "Oleksandr UTCHENKO",
      "userId": "08192551229335428030"
     },
     "user_tz": -180
    },
    "id": "t8rM6oFEkmlc",
    "outputId": "57e0c12b-47c2-4d04-ef1b-60202c3c0687"
   },
   "outputs": [
    {
     "data": {
      "image/png": "[encoded data removed]",
      "text/plain": [
       "<Figure size 432x288 with 1 Axes>"
      ]
     },
     "metadata": {
      "needs_background": "light"
     },
     "output_type": "display_data"
    }
   ],
   "source": [
    "plt.plot(\n",
    "    ts,\n",
    "    ys,\n",
    "    label=\"susceptible\",\n",
    "    linestyle=\"--\",\n",
    "    color=\"#100658\",\n",
    ")\n",
    "plt.plot(\n",
    "    ti,\n",
    "    yi,\n",
    "    label=\"infected\",\n",
    "    linestyle=\"-\",\n",
    "    color=\"#FF5733\",\n",
    ")\n",
    "plt.plot(\n",
    "    tr,\n",
    "    yr,\n",
    "    label=\"recovered\",\n",
    "    linestyle=\":\",\n",
    "    color=\"#065812\",\n",
    ")\n",
    "plt.xlabel(\"time\", fontsize=\"small\", color=\"midnightblue\")\n",
    "plt.ylabel(\"persons\", fontsize=\"small\", color=\"midnightblue\")\n",
    "plt.title(\"Epidemy progress\", fontsize=15)\n",
    "plt.legend()\n",
    "plt.show()"
   ]
  },
  {
   "cell_type": "code",
   "execution_count": 10,
   "metadata": {
    "executionInfo": {
     "elapsed": 56,
     "status": "ok",
     "timestamp": 1659171403233,
     "user": {
      "displayName": "Oleksandr UTCHENKO",
      "userId": "08192551229335428030"
     },
     "user_tz": -180
    },
    "id": "6hyo6483mGJY"
   },
   "outputs": [],
   "source": [
    "def St(ts, s_new, a_new):\n",
    "  return s_new * np.exp(- a_new * ts)"
   ]
  },
  {
   "cell_type": "code",
   "execution_count": 11,
   "metadata": {
    "executionInfo": {
     "elapsed": 55,
     "status": "ok",
     "timestamp": 1659171403233,
     "user": {
      "displayName": "Oleksandr UTCHENKO",
      "userId": "08192551229335428030"
     },
     "user_tz": -180
    },
    "id": "4DCxneHToqNa"
   },
   "outputs": [],
   "source": [
    "def dif_St(p, ys, ts):\n",
    "  s_new, a_new = p\n",
    "  return ys - St(ts, s_new, a_new)"
   ]
  },
  {
   "cell_type": "code",
   "execution_count": 12,
   "metadata": {
    "colab": {
     "base_uri": "https://localhost:8080/"
    },
    "executionInfo": {
     "elapsed": 55,
     "status": "ok",
     "timestamp": 1659171403234,
     "user": {
      "displayName": "Oleksandr UTCHENKO",
      "userId": "08192551229335428030"
     },
     "user_tz": -180
    },
    "id": "aefHtjrnrEIV",
    "outputId": "711e2bdb-fcee-4be0-ed80-b8399c0a2bc3"
   },
   "outputs": [
    {
     "name": "stderr",
     "output_type": "stream",
     "text": [
      "C:\\Users\\IiIymik\\AppData\\Local\\Temp\\ipykernel_16120\\2101415344.py:2: RuntimeWarning: overflow encountered in exp\n",
      "  return s_new * np.exp(- a_new * ts)\n"
     ]
    },
    {
     "data": {
      "text/plain": [
       "array([9.89978640e+05, 4.99856001e-01])"
      ]
     },
     "execution_count": 12,
     "metadata": {},
     "output_type": "execute_result"
    }
   ],
   "source": [
    "p = (1, 2)\n",
    "sol_st, _ = leastsq(dif_St, p, args=(ys, ts))\n",
    "sol_st"
   ]
  },
  {
   "cell_type": "code",
   "execution_count": 13,
   "metadata": {
    "colab": {
     "base_uri": "https://localhost:8080/",
     "height": 276
    },
    "executionInfo": {
     "elapsed": 51,
     "status": "ok",
     "timestamp": 1659171403235,
     "user": {
      "displayName": "Oleksandr UTCHENKO",
      "userId": "08192551229335428030"
     },
     "user_tz": -180
    },
    "id": "QjG9XLLSriR5",
    "outputId": "3cb1a261-0975-42e5-d021-3cb01382da6b"
   },
   "outputs": [
    {
     "data": {
      "image/png": "[encoded data removed]",
      "text/plain": [
       "<Figure size 432x288 with 1 Axes>"
      ]
     },
     "metadata": {
      "needs_background": "light"
     },
     "output_type": "display_data"
    }
   ],
   "source": [
    "def St_new(ts):\n",
    "  return sol_st[0] * np.exp(- sol_st[1] * ts)\n",
    "\n",
    "plt.plot(ts, St_new(ts), 'o'), \n",
    "plt.plot(ts, ys, color='red')\n",
    "plt.show()"
   ]
  },
  {
   "cell_type": "code",
   "execution_count": 14,
   "metadata": {
    "executionInfo": {
     "elapsed": 50,
     "status": "ok",
     "timestamp": 1659171403237,
     "user": {
      "displayName": "Oleksandr UTCHENKO",
      "userId": "08192551229335428030"
     },
     "user_tz": -180
    },
    "id": "iV0F6HGOZrDm"
   },
   "outputs": [],
   "source": [
    "def It(ti, i_new, si_new, ai_new):\n",
    "  return (i_new + ai_new * si_new * ti) * np.exp( - ai_new * ti)"
   ]
  },
  {
   "cell_type": "code",
   "execution_count": 15,
   "metadata": {
    "executionInfo": {
     "elapsed": 50,
     "status": "ok",
     "timestamp": 1659171403239,
     "user": {
      "displayName": "Oleksandr UTCHENKO",
      "userId": "08192551229335428030"
     },
     "user_tz": -180
    },
    "id": "NRpNo_iLa9Ad"
   },
   "outputs": [],
   "source": [
    "def dif_It(pi, yi, ti):\n",
    "  i_new, si_new, ai_new = pi\n",
    "  return yi - It(ti, i_new, si_new, ai_new)"
   ]
  },
  {
   "cell_type": "code",
   "execution_count": 16,
   "metadata": {
    "colab": {
     "base_uri": "https://localhost:8080/"
    },
    "executionInfo": {
     "elapsed": 52,
     "status": "ok",
     "timestamp": 1659171403242,
     "user": {
      "displayName": "Oleksandr UTCHENKO",
      "userId": "08192551229335428030"
     },
     "user_tz": -180
    },
    "id": "Ghcq6k7vb9S2",
    "outputId": "bc40d52b-a07d-463c-d56f-f138e4ceb4d1"
   },
   "outputs": [
    {
     "name": "stderr",
     "output_type": "stream",
     "text": [
      "C:\\Users\\IiIymik\\AppData\\Local\\Temp\\ipykernel_16120\\2798674829.py:2: RuntimeWarning: overflow encountered in exp\n",
      "  return (i_new + ai_new * si_new * ti) * np.exp( - ai_new * ti)\n"
     ]
    },
    {
     "data": {
      "text/plain": [
       "array([4.17754451e+03, 1.25203084e+06, 3.84053323e-01])"
      ]
     },
     "execution_count": 16,
     "metadata": {},
     "output_type": "execute_result"
    }
   ],
   "source": [
    "pi = (1, 1, 1)\n",
    "sol_it, _ = leastsq(dif_It, pi, args=(yi, ti))\n",
    "sol_it"
   ]
  },
  {
   "cell_type": "code",
   "execution_count": 17,
   "metadata": {
    "colab": {
     "base_uri": "https://localhost:8080/",
     "height": 265
    },
    "executionInfo": {
     "elapsed": 52,
     "status": "ok",
     "timestamp": 1659171403247,
     "user": {
      "displayName": "Oleksandr UTCHENKO",
      "userId": "08192551229335428030"
     },
     "user_tz": -180
    },
    "id": "QTjKND3Ucf1P",
    "outputId": "14e4a113-8ff7-4ec9-da48-9b975ec0a946"
   },
   "outputs": [
    {
     "data": {
      "image/png": "[encoded data removed]",
      "text/plain": [
       "<Figure size 432x288 with 1 Axes>"
      ]
     },
     "metadata": {
      "needs_background": "light"
     },
     "output_type": "display_data"
    }
   ],
   "source": [
    "def It_new(ti):\n",
    "  return (sol_it[0] + sol_it[2] * sol_it[1] * ti) * np.exp( - sol_it[2] * ti)\n",
    "\n",
    "plt.plot(ti, It_new(ti), 'o')\n",
    "plt.plot(ti, yi, color='red')\n",
    "plt.show()"
   ]
  },
  {
   "cell_type": "code",
   "execution_count": 18,
   "metadata": {
    "executionInfo": {
     "elapsed": 51,
     "status": "ok",
     "timestamp": 1659171403249,
     "user": {
      "displayName": "Oleksandr UTCHENKO",
      "userId": "08192551229335428030"
     },
     "user_tz": -180
    },
    "id": "4lmOPxBvfoU1"
   },
   "outputs": [],
   "source": [
    "def Rt(tr, n_new):\n",
    "  return n_new - St_new(tr) - It_new(tr)"
   ]
  },
  {
   "cell_type": "code",
   "execution_count": 19,
   "metadata": {
    "executionInfo": {
     "elapsed": 52,
     "status": "ok",
     "timestamp": 1659171403251,
     "user": {
      "displayName": "Oleksandr UTCHENKO",
      "userId": "08192551229335428030"
     },
     "user_tz": -180
    },
    "id": "yO01iUQlgFNz"
   },
   "outputs": [],
   "source": [
    "def dif_Rt(pr, yr, tr):\n",
    "  n_new = pr[0]\n",
    "  return yr - Rt(tr, n_new)"
   ]
  },
  {
   "cell_type": "code",
   "execution_count": 20,
   "metadata": {
    "colab": {
     "base_uri": "https://localhost:8080/"
    },
    "executionInfo": {
     "elapsed": 52,
     "status": "ok",
     "timestamp": 1659171403252,
     "user": {
      "displayName": "Oleksandr UTCHENKO",
      "userId": "08192551229335428030"
     },
     "user_tz": -180
    },
    "id": "7G2W4sh8geE-",
    "outputId": "e50c95b8-4866-43a6-8308-81158e115cd5"
   },
   "outputs": [
    {
     "data": {
      "text/plain": [
       "(array([995389.86201458]), 3)"
      ]
     },
     "execution_count": 20,
     "metadata": {},
     "output_type": "execute_result"
    }
   ],
   "source": [
    "pr = (1,)\n",
    "sol_rt = leastsq(dif_Rt, pr, args=(yr, tr))\n",
    "sol_rt"
   ]
  },
  {
   "cell_type": "code",
   "execution_count": 21,
   "metadata": {
    "executionInfo": {
     "elapsed": 50,
     "status": "ok",
     "timestamp": 1659171403255,
     "user": {
      "displayName": "Oleksandr UTCHENKO",
      "userId": "08192551229335428030"
     },
     "user_tz": -180
    },
    "id": "lsnd1eY_kf-5"
   },
   "outputs": [],
   "source": [
    "def Rt_new(tr):\n",
    "  return sol_rt[0] - St_new(tr) - It_new(tr)"
   ]
  },
  {
   "cell_type": "code",
   "execution_count": 22,
   "metadata": {
    "colab": {
     "base_uri": "https://localhost:8080/",
     "height": 276
    },
    "executionInfo": {
     "elapsed": 463,
     "status": "ok",
     "timestamp": 1659171403669,
     "user": {
      "displayName": "Oleksandr UTCHENKO",
      "userId": "08192551229335428030"
     },
     "user_tz": -180
    },
    "id": "rLJSIg7tlUb5",
    "outputId": "cdfecb11-a136-419a-845b-4a247f8f87ba"
   },
   "outputs": [
    {
     "data": {
      "image/png": "[encoded data removed]",
      "text/plain": [
       "<Figure size 432x288 with 1 Axes>"
      ]
     },
     "metadata": {
      "needs_background": "light"
     },
     "output_type": "display_data"
    }
   ],
   "source": [
    "plt.plot(tr, Rt_new(tr), 'o')\n",
    "plt.plot(tr, yr, color='red')\n",
    "plt.show()"
   ]
  },
  {
   "cell_type": "code",
   "execution_count": 23,
   "metadata": {
    "colab": {
     "base_uri": "https://localhost:8080/",
     "height": 296
    },
    "executionInfo": {
     "elapsed": 14,
     "status": "ok",
     "timestamp": 1659171403672,
     "user": {
      "displayName": "Oleksandr UTCHENKO",
      "userId": "08192551229335428030"
     },
     "user_tz": -180
    },
    "id": "dgVnJbsFURyd",
    "outputId": "89ea4e13-66ee-4802-8909-c05837242718"
   },
   "outputs": [
    {
     "data": {
      "image/png": "[encoded data removed]",
      "text/plain": [
       "<Figure size 432x288 with 1 Axes>"
      ]
     },
     "metadata": {
      "needs_background": "light"
     },
     "output_type": "display_data"
    }
   ],
   "source": [
    "plt.plot(\n",
    "    ts,\n",
    "    St_new(ts),\n",
    "    label=\"susceptible\",\n",
    "    linestyle=\"--\",\n",
    "    color=\"#100658\",\n",
    ")\n",
    "plt.plot(\n",
    "    ti,\n",
    "    It_new(ti),\n",
    "    label=\"infected\",\n",
    "    linestyle=\"-\",\n",
    "    color=\"#FF5733\",\n",
    ")\n",
    "plt.plot(\n",
    "    tr,\n",
    "    Rt_new(tr),\n",
    "    label=\"recovered\",\n",
    "    linestyle=\":\",\n",
    "    color=\"#065812\",\n",
    ")\n",
    "plt.xlabel(\"time\", fontsize=\"small\", color=\"midnightblue\")\n",
    "plt.ylabel(\"persons\", fontsize=\"small\", color=\"midnightblue\")\n",
    "plt.title(\"Epidemy progress\", fontsize=15)\n",
    "plt.legend()\n",
    "plt.show()"
   ]
  }
 ],
 "metadata": {
  "colab": {
   "authorship_tag": "ABX9TyMfVPz88mYZI1EfgTh2fI62",
   "collapsed_sections": [],
   "name": "Hw4.2.ipynb",
   "provenance": []
  },
  "kernelspec": {
   "display_name": "Python 3 (ipykernel)",
   "language": "python",
   "name": "python3"
  },
  "language_info": {
   "codemirror_mode": {
    "name": "ipython",
    "version": 3
   },
   "file_extension": ".py",
   "mimetype": "text/x-python",
   "name": "python",
   "nbconvert_exporter": "python",
   "pygments_lexer": "ipython3",
   "version": "3.9.12"
  }
 },
 "nbformat": 4,
 "nbformat_minor": 1
}
