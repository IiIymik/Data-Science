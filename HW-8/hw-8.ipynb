{
 "cells": [
  {
   "cell_type": "markdown",
   "metadata": {
    "id": "QH4MTNLJF0cX"
   },
   "source": [
    "# Линейная регрессия: переобучение и регуляризация"
   ]
  },
  {
   "cell_type": "markdown",
   "metadata": {
    "id": "_4Ozl-xzF0cb"
   },
   "source": [
    "В этом задании мы на примерах увидим, как переобучаются линейные модели, разберем, почему так происходит, и выясним, как диагностировать и контролировать переобучение.\n",
    "\n",
    "Во всех ячейках, где написан комментарий с инструкциями, нужно написать код, выполняющий эти инструкции. Остальные ячейки с кодом (без комментариев) нужно просто выполнить. Кроме того, в задании требуется отвечать на вопросы; ответы нужно вписывать после выделенного слова \"__Ответ:__\"."
   ]
  },
  {
   "cell_type": "code",
   "execution_count": 1,
   "metadata": {
    "executionInfo": {
     "elapsed": 950,
     "status": "ok",
     "timestamp": 1660528131496,
     "user": {
      "displayName": "Oleksandr UTCHENKO",
      "userId": "08192551229335428030"
     },
     "user_tz": -180
    },
    "id": "Q7qwUYsiF0cc"
   },
   "outputs": [],
   "source": [
    "import pandas as pd\n",
    "import numpy as np\n",
    "from matplotlib import pyplot as plt\n",
    "%matplotlib inline\n",
    "import seaborn as sns"
   ]
  },
  {
   "cell_type": "markdown",
   "metadata": {
    "id": "lAIZa5LXF0ce"
   },
   "source": [
    "Мы будем работать с датасетом __\"bikes_rent.csv\"__, в котором по дням записаны календарная информация и погодные условия, характеризующие автоматизированные пункты проката велосипедов, а также число прокатов в этот день. Последнее мы будем предсказывать; таким образом, мы будем решать задачу регрессии."
   ]
  },
  {
   "cell_type": "markdown",
   "metadata": {
    "id": "bL3VD-Z9F0ce"
   },
   "source": [
    "### Знакомство с данными"
   ]
  },
  {
   "cell_type": "markdown",
   "metadata": {
    "id": "PlxEpVFqghIe"
   },
   "source": [
    "## Задание 1"
   ]
  },
  {
   "cell_type": "markdown",
   "metadata": {
    "id": "5HYQjYnVF0cf"
   },
   "source": [
    "Загрузите датасет с помощью функции __pandas.read_csv__ в переменную __df__. Выведите первые 5 строчек, чтобы убедиться в корректном считывании данных:"
   ]
  },
  {
   "cell_type": "code",
   "execution_count": 4,
   "metadata": {
    "colab": {
     "base_uri": "https://localhost:8080/",
     "height": 206
    },
    "executionInfo": {
     "elapsed": 41,
     "status": "ok",
     "timestamp": 1660528131506,
     "user": {
      "displayName": "Oleksandr UTCHENKO",
      "userId": "08192551229335428030"
     },
     "user_tz": -180
    },
    "id": "moafDqLOF0cf",
    "outputId": "a4657005-9b39-4c12-c16c-6c8c5bae1f03"
   },
   "outputs": [
    {
     "data": {
      "text/html": [
       "<div>\n",
       "<style scoped>\n",
       "    .dataframe tbody tr th:only-of-type {\n",
       "        vertical-align: middle;\n",
       "    }\n",
       "\n",
       "    .dataframe tbody tr th {\n",
       "        vertical-align: top;\n",
       "    }\n",
       "\n",
       "    .dataframe thead th {\n",
       "        text-align: right;\n",
       "    }\n",
       "</style>\n",
       "<table border=\"1\" class=\"dataframe\">\n",
       "  <thead>\n",
       "    <tr style=\"text-align: right;\">\n",
       "      <th></th>\n",
       "      <th>season</th>\n",
       "      <th>yr</th>\n",
       "      <th>mnth</th>\n",
       "      <th>holiday</th>\n",
       "      <th>weekday</th>\n",
       "      <th>workingday</th>\n",
       "      <th>weathersit</th>\n",
       "      <th>temp</th>\n",
       "      <th>atemp</th>\n",
       "      <th>hum</th>\n",
       "      <th>windspeed(mph)</th>\n",
       "      <th>windspeed(ms)</th>\n",
       "      <th>cnt</th>\n",
       "    </tr>\n",
       "  </thead>\n",
       "  <tbody>\n",
       "    <tr>\n",
       "      <th>0</th>\n",
       "      <td>1</td>\n",
       "      <td>0</td>\n",
       "      <td>1</td>\n",
       "      <td>0</td>\n",
       "      <td>6</td>\n",
       "      <td>0</td>\n",
       "      <td>2</td>\n",
       "      <td>14.110847</td>\n",
       "      <td>18.18125</td>\n",
       "      <td>80.5833</td>\n",
       "      <td>10.749882</td>\n",
       "      <td>4.805490</td>\n",
       "      <td>985</td>\n",
       "    </tr>\n",
       "    <tr>\n",
       "      <th>1</th>\n",
       "      <td>1</td>\n",
       "      <td>0</td>\n",
       "      <td>1</td>\n",
       "      <td>0</td>\n",
       "      <td>0</td>\n",
       "      <td>0</td>\n",
       "      <td>2</td>\n",
       "      <td>14.902598</td>\n",
       "      <td>17.68695</td>\n",
       "      <td>69.6087</td>\n",
       "      <td>16.652113</td>\n",
       "      <td>7.443949</td>\n",
       "      <td>801</td>\n",
       "    </tr>\n",
       "    <tr>\n",
       "      <th>2</th>\n",
       "      <td>1</td>\n",
       "      <td>0</td>\n",
       "      <td>1</td>\n",
       "      <td>0</td>\n",
       "      <td>1</td>\n",
       "      <td>1</td>\n",
       "      <td>1</td>\n",
       "      <td>8.050924</td>\n",
       "      <td>9.47025</td>\n",
       "      <td>43.7273</td>\n",
       "      <td>16.636703</td>\n",
       "      <td>7.437060</td>\n",
       "      <td>1349</td>\n",
       "    </tr>\n",
       "    <tr>\n",
       "      <th>3</th>\n",
       "      <td>1</td>\n",
       "      <td>0</td>\n",
       "      <td>1</td>\n",
       "      <td>0</td>\n",
       "      <td>2</td>\n",
       "      <td>1</td>\n",
       "      <td>1</td>\n",
       "      <td>8.200000</td>\n",
       "      <td>10.60610</td>\n",
       "      <td>59.0435</td>\n",
       "      <td>10.739832</td>\n",
       "      <td>4.800998</td>\n",
       "      <td>1562</td>\n",
       "    </tr>\n",
       "    <tr>\n",
       "      <th>4</th>\n",
       "      <td>1</td>\n",
       "      <td>0</td>\n",
       "      <td>1</td>\n",
       "      <td>0</td>\n",
       "      <td>3</td>\n",
       "      <td>1</td>\n",
       "      <td>1</td>\n",
       "      <td>9.305237</td>\n",
       "      <td>11.46350</td>\n",
       "      <td>43.6957</td>\n",
       "      <td>12.522300</td>\n",
       "      <td>5.597810</td>\n",
       "      <td>1600</td>\n",
       "    </tr>\n",
       "  </tbody>\n",
       "</table>\n",
       "</div>"
      ],
      "text/plain": [
       "   season  yr  mnth  holiday  weekday  workingday  weathersit       temp  \\\n",
       "0       1   0     1        0        6           0           2  14.110847   \n",
       "1       1   0     1        0        0           0           2  14.902598   \n",
       "2       1   0     1        0        1           1           1   8.050924   \n",
       "3       1   0     1        0        2           1           1   8.200000   \n",
       "4       1   0     1        0        3           1           1   9.305237   \n",
       "\n",
       "      atemp      hum  windspeed(mph)  windspeed(ms)   cnt  \n",
       "0  18.18125  80.5833       10.749882       4.805490   985  \n",
       "1  17.68695  69.6087       16.652113       7.443949   801  \n",
       "2   9.47025  43.7273       16.636703       7.437060  1349  \n",
       "3  10.60610  59.0435       10.739832       4.800998  1562  \n",
       "4  11.46350  43.6957       12.522300       5.597810  1600  "
      ]
     },
     "execution_count": 4,
     "metadata": {},
     "output_type": "execute_result"
    }
   ],
   "source": [
    "df = pd.read_csv('bikes_rent.csv')\n",
    "df.head(5)"
   ]
  },
  {
   "cell_type": "markdown",
   "metadata": {
    "id": "arebsdFoF0ch"
   },
   "source": [
    "Для каждого дня проката известны следующие признаки:\n",
    "* _season_: 1 - весна, 2 - лето, 3 - осень, 4 - зима\n",
    "* _yr_: 0 - 2011, 1 - 2012\n",
    "* _mnth_: от 1 до 12\n",
    "* _holiday_: 0 - нет праздника, 1 - есть праздник\n",
    "* _weekday_: от 0 до 6\n",
    "* _workingday_: 0 - нерабочий день, 1 - рабочий день\n",
    "* _weathersit_: оценка благоприятности погоды от 1 (чистый, ясный день) до 4 (ливень, туман)\n",
    "* _temp_: температура в Цельсиях\n",
    "* _atemp_: температура по ощущениям в Цельсиях\n",
    "* _hum_: влажность\n",
    "* _windspeed(mph)_: скорость ветра в милях в час\n",
    "* _windspeed(ms)_: скорость ветра в метрах в секунду\n",
    "* _cnt_: количество арендованных велосипедов (это целевой признак, его мы будем предсказывать)\n",
    "\n",
    "Итак, у нас есть вещественные, бинарные и номинальные (порядковые) признаки, и со всеми из них можно работать как с вещественными. С номинальныеми признаками тоже можно работать как с вещественными, потому что на них задан порядок. Давайте посмотрим на графиках, как целевой признак зависит от остальных"
   ]
  },
  {
   "cell_type": "markdown",
   "metadata": {
    "id": "w_bf05QXe60r"
   },
   "source": [
    "Постройте графики зависимостей атрибутов от количества поездок. Другими словами вам нужно построить 12 графиков. На каждом должна быть изображена зависимость очередного атрибута от переменной **cnt**."
   ]
  },
  {
   "cell_type": "code",
   "execution_count": 5,
   "metadata": {
    "colab": {
     "base_uri": "https://localhost:8080/",
     "height": 144
    },
    "executionInfo": {
     "elapsed": 2726,
     "status": "ok",
     "timestamp": 1660528134205,
     "user": {
      "displayName": "Oleksandr UTCHENKO",
      "userId": "08192551229335428030"
     },
     "user_tz": -180
    },
    "id": "N72yVVRYF0ci",
    "outputId": "15a17041-a818-4442-e0d5-6937f2926c40"
   },
   "outputs": [
    {
     "data": {
      "image/png": "[encoded data removed]",
      "text/plain": [
       "<Figure size 2160x180 with 12 Axes>"
      ]
     },
     "metadata": {
      "needs_background": "light"
     },
     "output_type": "display_data"
    }
   ],
   "source": [
    "sns.pairplot(data=df, x_vars=df.columns[:-1], y_vars='cnt')\n",
    "plt.show()"
   ]
  },
  {
   "cell_type": "markdown",
   "metadata": {
    "id": "1g8iwiimF0cj"
   },
   "source": [
    "__Вопросы:__\n",
    "1. Каков характер зависимости числа прокатов от месяца?\n",
    "1. Укажите один или два признака, от которых число прокатов скорее всего зависит линейно"
   ]
  },
  {
   "cell_type": "markdown",
   "metadata": {
    "id": "xEEJtF6T1niF"
   },
   "source": [
    "Відповідь:\n",
    "  1. Максимум на літні місяці (від'ємна параболічна?).\n",
    "  2. Температура та швидкість вітру"
   ]
  },
  {
   "cell_type": "markdown",
   "metadata": {
    "id": "rB2NCSXbF0cj"
   },
   "source": [
    "## Задание 2\n",
    "\n",
    "Давайте более строго оценим уровень линейной зависимости между признаками и целевой переменной. Хорошей мерой линейной зависимости между двумя векторами является корреляция Пирсона. Нам уже приходилось иметь с ней дело раньше. Для ее вычисления в pandas можно использовать методы датафрейма: corr и corrwith."
   ]
  },
  {
   "cell_type": "markdown",
   "metadata": {
    "id": "ykR_leNKF0ck"
   },
   "source": [
    "Посчитайте корреляции всех признаков, кроме последнего, с последним с помощью метода `corrwith`."
   ]
  },
  {
   "cell_type": "code",
   "execution_count": 6,
   "metadata": {
    "colab": {
     "base_uri": "https://localhost:8080/"
    },
    "executionInfo": {
     "elapsed": 81,
     "status": "ok",
     "timestamp": 1660528134210,
     "user": {
      "displayName": "Oleksandr UTCHENKO",
      "userId": "08192551229335428030"
     },
     "user_tz": -180
    },
    "id": "v3RlugT3F0ck",
    "outputId": "e02e78fe-458b-4183-d52c-a71d4308ba97"
   },
   "outputs": [
    {
     "data": {
      "text/plain": [
       "season            0.406100\n",
       "yr                0.566710\n",
       "mnth              0.279977\n",
       "holiday          -0.068348\n",
       "weekday           0.067443\n",
       "workingday        0.061156\n",
       "weathersit       -0.297391\n",
       "temp              0.627494\n",
       "atemp             0.631066\n",
       "hum              -0.100659\n",
       "windspeed(mph)   -0.234545\n",
       "windspeed(ms)    -0.234545\n",
       "cnt               1.000000\n",
       "dtype: float64"
      ]
     },
     "execution_count": 6,
     "metadata": {},
     "output_type": "execute_result"
    }
   ],
   "source": [
    "df.corrwith(df['cnt'], axis=0)"
   ]
  },
  {
   "cell_type": "markdown",
   "metadata": {
    "id": "ovV_DO35F0cl"
   },
   "source": [
    "В выборке есть признаки, коррелирующие с целевым, а значит, задачу можно решать линейными методами."
   ]
  },
  {
   "cell_type": "markdown",
   "metadata": {
    "id": "r0dre43ZF0cl"
   },
   "source": [
    "По графикам видно, что некоторые признаки похожи друг на друга. Поэтому давайте также посчитаем корреляции между вещественными признаками."
   ]
  },
  {
   "cell_type": "markdown",
   "metadata": {
    "id": "Wga1WJDkF0cl"
   },
   "source": [
    "## Задание 3\n",
    "\n",
    "Посчитайте попарные корреляции между признаками temp, atemp, hum, windspeed(mph), windspeed(ms) и cnt\n",
    "с помощью метода corr:"
   ]
  },
  {
   "cell_type": "code",
   "execution_count": 7,
   "metadata": {
    "colab": {
     "base_uri": "https://localhost:8080/",
     "height": 457
    },
    "executionInfo": {
     "elapsed": 80,
     "status": "ok",
     "timestamp": 1660528134226,
     "user": {
      "displayName": "Oleksandr UTCHENKO",
      "userId": "08192551229335428030"
     },
     "user_tz": -180
    },
    "id": "1rSOhITgF0cm",
    "outputId": "141aa5d1-04dc-49b3-fc98-314448b3374e"
   },
   "outputs": [
    {
     "data": {
      "text/html": [
       "<div>\n",
       "<style scoped>\n",
       "    .dataframe tbody tr th:only-of-type {\n",
       "        vertical-align: middle;\n",
       "    }\n",
       "\n",
       "    .dataframe tbody tr th {\n",
       "        vertical-align: top;\n",
       "    }\n",
       "\n",
       "    .dataframe thead th {\n",
       "        text-align: right;\n",
       "    }\n",
       "</style>\n",
       "<table border=\"1\" class=\"dataframe\">\n",
       "  <thead>\n",
       "    <tr style=\"text-align: right;\">\n",
       "      <th></th>\n",
       "      <th>season</th>\n",
       "      <th>yr</th>\n",
       "      <th>mnth</th>\n",
       "      <th>holiday</th>\n",
       "      <th>weekday</th>\n",
       "      <th>workingday</th>\n",
       "      <th>weathersit</th>\n",
       "      <th>temp</th>\n",
       "      <th>atemp</th>\n",
       "      <th>hum</th>\n",
       "      <th>windspeed(mph)</th>\n",
       "      <th>windspeed(ms)</th>\n",
       "      <th>cnt</th>\n",
       "    </tr>\n",
       "  </thead>\n",
       "  <tbody>\n",
       "    <tr>\n",
       "      <th>season</th>\n",
       "      <td>1.000000</td>\n",
       "      <td>-0.001844</td>\n",
       "      <td>0.831440</td>\n",
       "      <td>-0.010537</td>\n",
       "      <td>-0.003080</td>\n",
       "      <td>0.012485</td>\n",
       "      <td>0.019211</td>\n",
       "      <td>0.334315</td>\n",
       "      <td>0.342876</td>\n",
       "      <td>0.205445</td>\n",
       "      <td>-0.229046</td>\n",
       "      <td>-0.229046</td>\n",
       "      <td>0.406100</td>\n",
       "    </tr>\n",
       "    <tr>\n",
       "      <th>yr</th>\n",
       "      <td>-0.001844</td>\n",
       "      <td>1.000000</td>\n",
       "      <td>-0.001792</td>\n",
       "      <td>0.007954</td>\n",
       "      <td>-0.005461</td>\n",
       "      <td>-0.002013</td>\n",
       "      <td>-0.048727</td>\n",
       "      <td>0.047604</td>\n",
       "      <td>0.046106</td>\n",
       "      <td>-0.110651</td>\n",
       "      <td>-0.011817</td>\n",
       "      <td>-0.011817</td>\n",
       "      <td>0.566710</td>\n",
       "    </tr>\n",
       "    <tr>\n",
       "      <th>mnth</th>\n",
       "      <td>0.831440</td>\n",
       "      <td>-0.001792</td>\n",
       "      <td>1.000000</td>\n",
       "      <td>0.019191</td>\n",
       "      <td>0.009509</td>\n",
       "      <td>-0.005901</td>\n",
       "      <td>0.043528</td>\n",
       "      <td>0.220205</td>\n",
       "      <td>0.227459</td>\n",
       "      <td>0.222204</td>\n",
       "      <td>-0.207502</td>\n",
       "      <td>-0.207502</td>\n",
       "      <td>0.279977</td>\n",
       "    </tr>\n",
       "    <tr>\n",
       "      <th>holiday</th>\n",
       "      <td>-0.010537</td>\n",
       "      <td>0.007954</td>\n",
       "      <td>0.019191</td>\n",
       "      <td>1.000000</td>\n",
       "      <td>-0.101960</td>\n",
       "      <td>-0.253023</td>\n",
       "      <td>-0.034627</td>\n",
       "      <td>-0.028556</td>\n",
       "      <td>-0.032507</td>\n",
       "      <td>-0.015937</td>\n",
       "      <td>0.006292</td>\n",
       "      <td>0.006292</td>\n",
       "      <td>-0.068348</td>\n",
       "    </tr>\n",
       "    <tr>\n",
       "      <th>weekday</th>\n",
       "      <td>-0.003080</td>\n",
       "      <td>-0.005461</td>\n",
       "      <td>0.009509</td>\n",
       "      <td>-0.101960</td>\n",
       "      <td>1.000000</td>\n",
       "      <td>0.035790</td>\n",
       "      <td>0.031087</td>\n",
       "      <td>-0.000170</td>\n",
       "      <td>-0.007537</td>\n",
       "      <td>-0.052232</td>\n",
       "      <td>0.014282</td>\n",
       "      <td>0.014282</td>\n",
       "      <td>0.067443</td>\n",
       "    </tr>\n",
       "    <tr>\n",
       "      <th>workingday</th>\n",
       "      <td>0.012485</td>\n",
       "      <td>-0.002013</td>\n",
       "      <td>-0.005901</td>\n",
       "      <td>-0.253023</td>\n",
       "      <td>0.035790</td>\n",
       "      <td>1.000000</td>\n",
       "      <td>0.061200</td>\n",
       "      <td>0.052660</td>\n",
       "      <td>0.052182</td>\n",
       "      <td>0.024327</td>\n",
       "      <td>-0.018796</td>\n",
       "      <td>-0.018796</td>\n",
       "      <td>0.061156</td>\n",
       "    </tr>\n",
       "    <tr>\n",
       "      <th>weathersit</th>\n",
       "      <td>0.019211</td>\n",
       "      <td>-0.048727</td>\n",
       "      <td>0.043528</td>\n",
       "      <td>-0.034627</td>\n",
       "      <td>0.031087</td>\n",
       "      <td>0.061200</td>\n",
       "      <td>1.000000</td>\n",
       "      <td>-0.120602</td>\n",
       "      <td>-0.121583</td>\n",
       "      <td>0.591045</td>\n",
       "      <td>0.039511</td>\n",
       "      <td>0.039511</td>\n",
       "      <td>-0.297391</td>\n",
       "    </tr>\n",
       "    <tr>\n",
       "      <th>temp</th>\n",
       "      <td>0.334315</td>\n",
       "      <td>0.047604</td>\n",
       "      <td>0.220205</td>\n",
       "      <td>-0.028556</td>\n",
       "      <td>-0.000170</td>\n",
       "      <td>0.052660</td>\n",
       "      <td>-0.120602</td>\n",
       "      <td>1.000000</td>\n",
       "      <td>0.991702</td>\n",
       "      <td>0.126963</td>\n",
       "      <td>-0.157944</td>\n",
       "      <td>-0.157944</td>\n",
       "      <td>0.627494</td>\n",
       "    </tr>\n",
       "    <tr>\n",
       "      <th>atemp</th>\n",
       "      <td>0.342876</td>\n",
       "      <td>0.046106</td>\n",
       "      <td>0.227459</td>\n",
       "      <td>-0.032507</td>\n",
       "      <td>-0.007537</td>\n",
       "      <td>0.052182</td>\n",
       "      <td>-0.121583</td>\n",
       "      <td>0.991702</td>\n",
       "      <td>1.000000</td>\n",
       "      <td>0.139988</td>\n",
       "      <td>-0.183643</td>\n",
       "      <td>-0.183643</td>\n",
       "      <td>0.631066</td>\n",
       "    </tr>\n",
       "    <tr>\n",
       "      <th>hum</th>\n",
       "      <td>0.205445</td>\n",
       "      <td>-0.110651</td>\n",
       "      <td>0.222204</td>\n",
       "      <td>-0.015937</td>\n",
       "      <td>-0.052232</td>\n",
       "      <td>0.024327</td>\n",
       "      <td>0.591045</td>\n",
       "      <td>0.126963</td>\n",
       "      <td>0.139988</td>\n",
       "      <td>1.000000</td>\n",
       "      <td>-0.248489</td>\n",
       "      <td>-0.248489</td>\n",
       "      <td>-0.100659</td>\n",
       "    </tr>\n",
       "    <tr>\n",
       "      <th>windspeed(mph)</th>\n",
       "      <td>-0.229046</td>\n",
       "      <td>-0.011817</td>\n",
       "      <td>-0.207502</td>\n",
       "      <td>0.006292</td>\n",
       "      <td>0.014282</td>\n",
       "      <td>-0.018796</td>\n",
       "      <td>0.039511</td>\n",
       "      <td>-0.157944</td>\n",
       "      <td>-0.183643</td>\n",
       "      <td>-0.248489</td>\n",
       "      <td>1.000000</td>\n",
       "      <td>1.000000</td>\n",
       "      <td>-0.234545</td>\n",
       "    </tr>\n",
       "    <tr>\n",
       "      <th>windspeed(ms)</th>\n",
       "      <td>-0.229046</td>\n",
       "      <td>-0.011817</td>\n",
       "      <td>-0.207502</td>\n",
       "      <td>0.006292</td>\n",
       "      <td>0.014282</td>\n",
       "      <td>-0.018796</td>\n",
       "      <td>0.039511</td>\n",
       "      <td>-0.157944</td>\n",
       "      <td>-0.183643</td>\n",
       "      <td>-0.248489</td>\n",
       "      <td>1.000000</td>\n",
       "      <td>1.000000</td>\n",
       "      <td>-0.234545</td>\n",
       "    </tr>\n",
       "    <tr>\n",
       "      <th>cnt</th>\n",
       "      <td>0.406100</td>\n",
       "      <td>0.566710</td>\n",
       "      <td>0.279977</td>\n",
       "      <td>-0.068348</td>\n",
       "      <td>0.067443</td>\n",
       "      <td>0.061156</td>\n",
       "      <td>-0.297391</td>\n",
       "      <td>0.627494</td>\n",
       "      <td>0.631066</td>\n",
       "      <td>-0.100659</td>\n",
       "      <td>-0.234545</td>\n",
       "      <td>-0.234545</td>\n",
       "      <td>1.000000</td>\n",
       "    </tr>\n",
       "  </tbody>\n",
       "</table>\n",
       "</div>"
      ],
      "text/plain": [
       "                  season        yr      mnth   holiday   weekday  workingday  \\\n",
       "season          1.000000 -0.001844  0.831440 -0.010537 -0.003080    0.012485   \n",
       "yr             -0.001844  1.000000 -0.001792  0.007954 -0.005461   -0.002013   \n",
       "mnth            0.831440 -0.001792  1.000000  0.019191  0.009509   -0.005901   \n",
       "holiday        -0.010537  0.007954  0.019191  1.000000 -0.101960   -0.253023   \n",
       "weekday        -0.003080 -0.005461  0.009509 -0.101960  1.000000    0.035790   \n",
       "workingday      0.012485 -0.002013 -0.005901 -0.253023  0.035790    1.000000   \n",
       "weathersit      0.019211 -0.048727  0.043528 -0.034627  0.031087    0.061200   \n",
       "temp            0.334315  0.047604  0.220205 -0.028556 -0.000170    0.052660   \n",
       "atemp           0.342876  0.046106  0.227459 -0.032507 -0.007537    0.052182   \n",
       "hum             0.205445 -0.110651  0.222204 -0.015937 -0.052232    0.024327   \n",
       "windspeed(mph) -0.229046 -0.011817 -0.207502  0.006292  0.014282   -0.018796   \n",
       "windspeed(ms)  -0.229046 -0.011817 -0.207502  0.006292  0.014282   -0.018796   \n",
       "cnt             0.406100  0.566710  0.279977 -0.068348  0.067443    0.061156   \n",
       "\n",
       "                weathersit      temp     atemp       hum  windspeed(mph)  \\\n",
       "season            0.019211  0.334315  0.342876  0.205445       -0.229046   \n",
       "yr               -0.048727  0.047604  0.046106 -0.110651       -0.011817   \n",
       "mnth              0.043528  0.220205  0.227459  0.222204       -0.207502   \n",
       "holiday          -0.034627 -0.028556 -0.032507 -0.015937        0.006292   \n",
       "weekday           0.031087 -0.000170 -0.007537 -0.052232        0.014282   \n",
       "workingday        0.061200  0.052660  0.052182  0.024327       -0.018796   \n",
       "weathersit        1.000000 -0.120602 -0.121583  0.591045        0.039511   \n",
       "temp             -0.120602  1.000000  0.991702  0.126963       -0.157944   \n",
       "atemp            -0.121583  0.991702  1.000000  0.139988       -0.183643   \n",
       "hum               0.591045  0.126963  0.139988  1.000000       -0.248489   \n",
       "windspeed(mph)    0.039511 -0.157944 -0.183643 -0.248489        1.000000   \n",
       "windspeed(ms)     0.039511 -0.157944 -0.183643 -0.248489        1.000000   \n",
       "cnt              -0.297391  0.627494  0.631066 -0.100659       -0.234545   \n",
       "\n",
       "                windspeed(ms)       cnt  \n",
       "season              -0.229046  0.406100  \n",
       "yr                  -0.011817  0.566710  \n",
       "mnth                -0.207502  0.279977  \n",
       "holiday              0.006292 -0.068348  \n",
       "weekday              0.014282  0.067443  \n",
       "workingday          -0.018796  0.061156  \n",
       "weathersit           0.039511 -0.297391  \n",
       "temp                -0.157944  0.627494  \n",
       "atemp               -0.183643  0.631066  \n",
       "hum                 -0.248489 -0.100659  \n",
       "windspeed(mph)       1.000000 -0.234545  \n",
       "windspeed(ms)        1.000000 -0.234545  \n",
       "cnt                 -0.234545  1.000000  "
      ]
     },
     "execution_count": 7,
     "metadata": {},
     "output_type": "execute_result"
    }
   ],
   "source": [
    "df.corr()"
   ]
  },
  {
   "cell_type": "markdown",
   "metadata": {
    "id": "Ooc4syvaF0cm"
   },
   "source": [
    "На диагоналях, как и полагается, стоят единицы. Однако в матрице имеются еще две пары сильно коррелирующих столбцов: temp и atemp (коррелируют по своей природе) и два windspeed (потому что это просто перевод одних единиц в другие). Далее мы увидим, что этот факт негативно сказывается на обучении линейной модели."
   ]
  },
  {
   "cell_type": "markdown",
   "metadata": {
    "id": "t-w2-4DbF0cm"
   },
   "source": [
    "Напоследок посмотрим средние признаков (метод mean), чтобы оценить масштаб признаков и доли 1 у бинарных признаков."
   ]
  },
  {
   "cell_type": "markdown",
   "metadata": {
    "id": "Ml3jlosnF0cm"
   },
   "source": [
    "## Задание 4\n",
    "\n",
    "Выведите средние признаков"
   ]
  },
  {
   "cell_type": "code",
   "execution_count": 8,
   "metadata": {
    "colab": {
     "base_uri": "https://localhost:8080/"
    },
    "executionInfo": {
     "elapsed": 77,
     "status": "ok",
     "timestamp": 1660528134230,
     "user": {
      "displayName": "Oleksandr UTCHENKO",
      "userId": "08192551229335428030"
     },
     "user_tz": -180
    },
    "id": "zg7yBN9YF0cn",
    "outputId": "2bbb5c39-464f-4b97-b5c0-88a4284e44bf"
   },
   "outputs": [
    {
     "data": {
      "text/plain": [
       "season               2.496580\n",
       "yr                   0.500684\n",
       "mnth                 6.519836\n",
       "holiday              0.028728\n",
       "weekday              2.997264\n",
       "workingday           0.683995\n",
       "weathersit           1.395349\n",
       "temp                20.310776\n",
       "atemp               23.717699\n",
       "hum                 62.789406\n",
       "windspeed(mph)      12.762576\n",
       "windspeed(ms)        5.705220\n",
       "cnt               4504.348837\n",
       "dtype: float64"
      ]
     },
     "execution_count": 8,
     "metadata": {},
     "output_type": "execute_result"
    }
   ],
   "source": [
    "df.mean()"
   ]
  },
  {
   "cell_type": "markdown",
   "metadata": {
    "id": "2i9pGW4TF0cn"
   },
   "source": [
    "Признаки имеют разный масштаб, значит для дальнейшей работы нам лучше нормировать матрицу объекты-признаки."
   ]
  },
  {
   "cell_type": "markdown",
   "metadata": {
    "id": "-RTwV3e_F0cn"
   },
   "source": [
    "### Проблема первая: коллинеарные признаки"
   ]
  },
  {
   "cell_type": "markdown",
   "metadata": {
    "id": "SSmpjxmrF0co"
   },
   "source": [
    "Итак, в наших данных один признак дублирует другой, и есть еще два очень похожих. Конечно, мы могли бы сразу удалить дубликаты, но давайте посмотрим, как бы происходило обучение модели, если бы мы не заметили эту проблему. \n",
    "\n",
    "Для начала проведем масштабирование, или стандартизацию признаков: из каждого признака вычтем его среднее и поделим на стандартное отклонение. Это можно сделать с помощью метода scale.\n",
    "\n",
    "Кроме того, нужно перемешать выборку, это потребуется для кросс-валидации."
   ]
  },
  {
   "cell_type": "code",
   "execution_count": 9,
   "metadata": {
    "executionInfo": {
     "elapsed": 71,
     "status": "ok",
     "timestamp": 1660528134231,
     "user": {
      "displayName": "Oleksandr UTCHENKO",
      "userId": "08192551229335428030"
     },
     "user_tz": -180
    },
    "id": "jkGjoC9QF0co"
   },
   "outputs": [],
   "source": [
    "from sklearn.preprocessing import scale\n",
    "from sklearn.utils import shuffle"
   ]
  },
  {
   "cell_type": "code",
   "execution_count": 10,
   "metadata": {
    "executionInfo": {
     "elapsed": 70,
     "status": "ok",
     "timestamp": 1660528134232,
     "user": {
      "displayName": "Oleksandr UTCHENKO",
      "userId": "08192551229335428030"
     },
     "user_tz": -180
    },
    "id": "9JnmTmeKF0co"
   },
   "outputs": [],
   "source": [
    "df_shuffled = shuffle(df, random_state=42)\n",
    "X = scale(df_shuffled[df_shuffled.columns[:-1]])\n",
    "y = df_shuffled[\"cnt\"]"
   ]
  },
  {
   "cell_type": "markdown",
   "metadata": {
    "id": "wEvKSbrFF0co"
   },
   "source": [
    "Давайте обучим линейную регрессию на наших данных и посмотрим на веса признаков."
   ]
  },
  {
   "cell_type": "code",
   "execution_count": 11,
   "metadata": {
    "executionInfo": {
     "elapsed": 822,
     "status": "ok",
     "timestamp": 1660528134985,
     "user": {
      "displayName": "Oleksandr UTCHENKO",
      "userId": "08192551229335428030"
     },
     "user_tz": -180
    },
    "id": "Q9DAkdS1F0cp"
   },
   "outputs": [],
   "source": [
    "from sklearn.linear_model import LinearRegression"
   ]
  },
  {
   "cell_type": "markdown",
   "metadata": {
    "id": "-8Cc-xhqF0cp"
   },
   "source": [
    "## Задание 5\n",
    "\n",
    "Создайте объект линейного регрессора, обучите его на всех данных и выведите веса модели (веса хранятся в переменной `coef_` класса регрессора). Можно выводить пары (название признака, вес), воспользовавшись функцией `zip`, встроенной в язык python. Названия признаков хранятся в переменной `df.columns`.\n"
   ]
  },
  {
   "cell_type": "code",
   "execution_count": 12,
   "metadata": {
    "colab": {
     "base_uri": "https://localhost:8080/"
    },
    "executionInfo": {
     "elapsed": 88,
     "status": "ok",
     "timestamp": 1660528134988,
     "user": {
      "displayName": "Oleksandr UTCHENKO",
      "userId": "08192551229335428030"
     },
     "user_tz": -180
    },
    "id": "EYFEkeI0F0cp",
    "outputId": "2c0a6827-c7af-4857-a36d-5a02390250f3"
   },
   "outputs": [
    {
     "data": {
      "text/plain": [
       "[('season', 570.8679345224668),\n",
       " ('yr', 1021.9639849625576),\n",
       " ('mnth', -141.3022137568079),\n",
       " ('holiday', -86.758697652299),\n",
       " ('weekday', 137.22601503217217),\n",
       " ('workingday', 56.39112357149941),\n",
       " ('weathersit', -330.2282771462635),\n",
       " ('temp', 367.4593668426369),\n",
       " ('atemp', 585.5712657570259),\n",
       " ('hum', -145.61199786498526),\n",
       " ('windspeed(mph)', 12457538479325.785),\n",
       " ('windspeed(ms)', -12457538479524.242)]"
      ]
     },
     "execution_count": 12,
     "metadata": {},
     "output_type": "execute_result"
    }
   ],
   "source": [
    "model = LinearRegression()\n",
    "model.fit(X,y)\n",
    "weights = zip(df.columns, model.coef_)\n",
    "list(weights)"
   ]
  },
  {
   "cell_type": "markdown",
   "metadata": {
    "id": "EXHziiV-F0cp"
   },
   "source": [
    "Мы видим, что веса при линейно-зависимых признаках по модулю значительно больше, чем при других признаках. Чтобы понять, почему так произошло, вспомним аналитическую формулу, по которой вычисляются веса линейной модели в методе наименьших квадратов:\n",
    "\n",
    "$$w = (X^TX)^{-1} X^T y$$\n",
    "\n",
    "Если в $X$ есть коллинеарные (линейно-зависимые) столбцы, матрица $X^TX$ становится вырожденной, и формула перестает быть корректной. Чем более зависимы признаки, тем меньше определитель этой матрицы и тем хуже аппроксимация $Xw \\approx y$. Такая ситуацию называют _проблемой мультиколлинеарности_."
   ]
  },
  {
   "cell_type": "markdown",
   "metadata": {
    "id": "PIX0I5LQF0cq"
   },
   "source": [
    "С парой (temp, atemp) чуть менее коррелирующих переменных такого не произошло, однако на практике всегда стоит внимательно следить за коэффициентами при похожих признаках."
   ]
  },
  {
   "cell_type": "markdown",
   "metadata": {
    "id": "vkXwN1tKF0cq"
   },
   "source": [
    "Для того, чтобы решить проблему мультиколлинеарности нужно воспользоваться регуляризатором. К оптимизируемому функционалу прибавляют $L_1$ или $L_2$ норму весов, умноженную на коэффициент регуляризации $\\alpha$. В первом случае метод называется Lasso, а во втором --- Ridge."
   ]
  },
  {
   "cell_type": "markdown",
   "metadata": {
    "id": "FT2oVbm1F0cq"
   },
   "source": [
    "### Задание 6\n",
    "Давайте попробуем обучить линейные модели с $L_1$ и $L_2$-регуляризацией, а далее сравним их веса. Обучите регрессоры Ridge и Lasso с параметрами по умолчанию и убедитесь, что проблема с весами решилась."
   ]
  },
  {
   "cell_type": "markdown",
   "metadata": {
    "id": "Rw0SDNemF0cq"
   },
   "source": [
    "Обучите линейную модель с $L_1$-регуляризацией (класс Lasso) и выведите веса"
   ]
  },
  {
   "cell_type": "code",
   "execution_count": 13,
   "metadata": {
    "colab": {
     "base_uri": "https://localhost:8080/"
    },
    "executionInfo": {
     "elapsed": 83,
     "status": "ok",
     "timestamp": 1660528134992,
     "user": {
      "displayName": "Oleksandr UTCHENKO",
      "userId": "08192551229335428030"
     },
     "user_tz": -180
    },
    "id": "A2U5BrZ9F0cr",
    "outputId": "cfe1cf8a-6a18-48f9-9ec4-c030b86becf1"
   },
   "outputs": [
    {
     "data": {
      "text/plain": [
       "[('season', 560.2416160308862),\n",
       " ('yr', 1019.4634940657195),\n",
       " ('mnth', -128.73062703678715),\n",
       " ('holiday', -86.15278133371106),\n",
       " ('weekday', 137.34789390496323),\n",
       " ('workingday', 55.21237064135662),\n",
       " ('weathersit', -332.3698569623487),\n",
       " ('temp', 376.36323620969586),\n",
       " ('atemp', 576.5307935045538),\n",
       " ('hum', -144.12915500348592),\n",
       " ('windspeed(mph)', -197.13968940248492),\n",
       " ('windspeed(ms)', -2.8050769963390902e-08)]"
      ]
     },
     "execution_count": 13,
     "metadata": {},
     "output_type": "execute_result"
    }
   ],
   "source": [
    "from logging import lastResort\n",
    "from sklearn.linear_model import Lasso\n",
    "\n",
    "model = Lasso()\n",
    "model.fit(X,y)\n",
    "weights = zip(df.columns, model.coef_)\n",
    "list(weights)"
   ]
  },
  {
   "cell_type": "markdown",
   "metadata": {
    "id": "h7MpUkWyF0cr"
   },
   "source": [
    "Обучите линейную модель с $L_2$-регуляризацией (класс Ridge) и выведите веса"
   ]
  },
  {
   "cell_type": "code",
   "execution_count": 14,
   "metadata": {
    "colab": {
     "base_uri": "https://localhost:8080/"
    },
    "executionInfo": {
     "elapsed": 75,
     "status": "ok",
     "timestamp": 1660528134994,
     "user": {
      "displayName": "Oleksandr UTCHENKO",
      "userId": "08192551229335428030"
     },
     "user_tz": -180
    },
    "id": "u4BnooUuF0cr",
    "outputId": "94c4cdf3-0f60-4473-a2d8-fd21d48bf6c6"
   },
   "outputs": [
    {
     "data": {
      "text/plain": [
       "[('season', 563.0645722520198),\n",
       " ('yr', 1018.9483787875305),\n",
       " ('mnth', -131.8733202824793),\n",
       " ('holiday', -86.74609799709206),\n",
       " ('weekday', 138.005111178719),\n",
       " ('workingday', 55.903110375064756),\n",
       " ('weathersit', -332.3497884990733),\n",
       " ('temp', 386.457889191948),\n",
       " ('atemp', 566.3470470600261),\n",
       " ('hum', -145.07132729867166),\n",
       " ('windspeed(mph)', -99.25944108188017),\n",
       " ('windspeed(ms)', -99.25944115425338)]"
      ]
     },
     "execution_count": 14,
     "metadata": {},
     "output_type": "execute_result"
    }
   ],
   "source": [
    "from sklearn.linear_model import Ridge\n",
    "\n",
    "model = Ridge()\n",
    "model.fit(X,y)\n",
    "weights = zip(df.columns, model.coef_)\n",
    "list(weights)"
   ]
  },
  {
   "cell_type": "markdown",
   "metadata": {
    "id": "OmpSEJ3wF0cr"
   },
   "source": [
    "### Задание 7\n",
    "\n",
    "В отличие от $L_2$-регуляризации, $L_1$ обнуляет веса при некоторых признаках Давайте пронаблюдаем, как меняются веса при увеличении коэффициента регуляризации $\\alpha$."
   ]
  },
  {
   "cell_type": "markdown",
   "metadata": {
    "id": "Ho9_PTbHF0cs"
   },
   "source": [
    "Для каждого значения коэффициента из `alphas` обучите регрессор `Lasso` и запишите веса список `coefs_lasso`, а затем обучите `Ridge` и запишите веса в список`coefs_ridge`. Конвертируйте полученные списки в `np.array`."
   ]
  },
  {
   "cell_type": "code",
   "execution_count": 15,
   "metadata": {
    "colab": {
     "base_uri": "https://localhost:8080/",
     "height": 363
    },
    "executionInfo": {
     "elapsed": 69,
     "status": "ok",
     "timestamp": 1660528134996,
     "user": {
      "displayName": "Oleksandr UTCHENKO",
      "userId": "08192551229335428030"
     },
     "user_tz": -180
    },
    "id": "HiizakIyF0cs",
    "outputId": "8f3343be-de8c-4221-ff9a-5f8413d37635"
   },
   "outputs": [
    {
     "data": {
      "text/html": [
       "<div>\n",
       "<style scoped>\n",
       "    .dataframe tbody tr th:only-of-type {\n",
       "        vertical-align: middle;\n",
       "    }\n",
       "\n",
       "    .dataframe tbody tr th {\n",
       "        vertical-align: top;\n",
       "    }\n",
       "\n",
       "    .dataframe thead th {\n",
       "        text-align: right;\n",
       "    }\n",
       "</style>\n",
       "<table border=\"1\" class=\"dataframe\">\n",
       "  <thead>\n",
       "    <tr style=\"text-align: right;\">\n",
       "      <th></th>\n",
       "      <th>season</th>\n",
       "      <th>yr</th>\n",
       "      <th>mnth</th>\n",
       "      <th>holiday</th>\n",
       "      <th>weekday</th>\n",
       "      <th>workingday</th>\n",
       "      <th>weathersit</th>\n",
       "      <th>temp</th>\n",
       "      <th>atemp</th>\n",
       "      <th>hum</th>\n",
       "      <th>windspeed(mph)</th>\n",
       "      <th>windspeed(ms)</th>\n",
       "    </tr>\n",
       "  </thead>\n",
       "  <tbody>\n",
       "    <tr>\n",
       "      <th>1</th>\n",
       "      <td>560.241616</td>\n",
       "      <td>1019.463494</td>\n",
       "      <td>-128.730627</td>\n",
       "      <td>-86.152781</td>\n",
       "      <td>137.347894</td>\n",
       "      <td>55.212371</td>\n",
       "      <td>-332.369857</td>\n",
       "      <td>376.363236</td>\n",
       "      <td>576.530794</td>\n",
       "      <td>-144.129155</td>\n",
       "      <td>-197.139689</td>\n",
       "      <td>-2.805077e-08</td>\n",
       "    </tr>\n",
       "    <tr>\n",
       "      <th>51</th>\n",
       "      <td>410.969632</td>\n",
       "      <td>977.019409</td>\n",
       "      <td>-0.000000</td>\n",
       "      <td>-53.448969</td>\n",
       "      <td>91.943437</td>\n",
       "      <td>17.537212</td>\n",
       "      <td>-318.125568</td>\n",
       "      <td>322.829934</td>\n",
       "      <td>610.031512</td>\n",
       "      <td>-91.068962</td>\n",
       "      <td>-145.066095</td>\n",
       "      <td>-2.298898e-08</td>\n",
       "    </tr>\n",
       "    <tr>\n",
       "      <th>101</th>\n",
       "      <td>370.077089</td>\n",
       "      <td>935.945490</td>\n",
       "      <td>0.000000</td>\n",
       "      <td>-12.161936</td>\n",
       "      <td>48.888634</td>\n",
       "      <td>0.000000</td>\n",
       "      <td>-308.805664</td>\n",
       "      <td>269.417263</td>\n",
       "      <td>632.502623</td>\n",
       "      <td>-27.504288</td>\n",
       "      <td>-93.774904</td>\n",
       "      <td>-2.416520e-08</td>\n",
       "    </tr>\n",
       "    <tr>\n",
       "      <th>151</th>\n",
       "      <td>332.835717</td>\n",
       "      <td>891.870058</td>\n",
       "      <td>0.000000</td>\n",
       "      <td>-0.000000</td>\n",
       "      <td>0.000000</td>\n",
       "      <td>0.000000</td>\n",
       "      <td>-279.616688</td>\n",
       "      <td>211.052030</td>\n",
       "      <td>662.920880</td>\n",
       "      <td>-0.000000</td>\n",
       "      <td>-50.155147</td>\n",
       "      <td>-2.627853e-08</td>\n",
       "    </tr>\n",
       "    <tr>\n",
       "      <th>201</th>\n",
       "      <td>298.134448</td>\n",
       "      <td>845.652857</td>\n",
       "      <td>0.000000</td>\n",
       "      <td>-0.000000</td>\n",
       "      <td>0.000000</td>\n",
       "      <td>0.000000</td>\n",
       "      <td>-235.571345</td>\n",
       "      <td>124.144807</td>\n",
       "      <td>725.379483</td>\n",
       "      <td>-0.000000</td>\n",
       "      <td>-12.646177</td>\n",
       "      <td>-2.787824e-08</td>\n",
       "    </tr>\n",
       "    <tr>\n",
       "      <th>251</th>\n",
       "      <td>258.927201</td>\n",
       "      <td>799.237273</td>\n",
       "      <td>0.000000</td>\n",
       "      <td>-0.000000</td>\n",
       "      <td>0.000000</td>\n",
       "      <td>0.000000</td>\n",
       "      <td>-190.821549</td>\n",
       "      <td>72.075938</td>\n",
       "      <td>750.363107</td>\n",
       "      <td>-0.000000</td>\n",
       "      <td>-0.000000</td>\n",
       "      <td>-0.000000e+00</td>\n",
       "    </tr>\n",
       "    <tr>\n",
       "      <th>301</th>\n",
       "      <td>217.427513</td>\n",
       "      <td>752.720808</td>\n",
       "      <td>0.000000</td>\n",
       "      <td>-0.000000</td>\n",
       "      <td>0.000000</td>\n",
       "      <td>0.000000</td>\n",
       "      <td>-145.713398</td>\n",
       "      <td>37.715365</td>\n",
       "      <td>756.296866</td>\n",
       "      <td>-0.000000</td>\n",
       "      <td>-0.000000</td>\n",
       "      <td>-0.000000e+00</td>\n",
       "    </tr>\n",
       "    <tr>\n",
       "      <th>351</th>\n",
       "      <td>175.929845</td>\n",
       "      <td>706.203788</td>\n",
       "      <td>0.000000</td>\n",
       "      <td>-0.000000</td>\n",
       "      <td>0.000000</td>\n",
       "      <td>0.000000</td>\n",
       "      <td>-100.605389</td>\n",
       "      <td>3.660938</td>\n",
       "      <td>761.926337</td>\n",
       "      <td>-0.000000</td>\n",
       "      <td>-0.000000</td>\n",
       "      <td>-0.000000e+00</td>\n",
       "    </tr>\n",
       "    <tr>\n",
       "      <th>401</th>\n",
       "      <td>134.628497</td>\n",
       "      <td>659.632535</td>\n",
       "      <td>0.000000</td>\n",
       "      <td>-0.000000</td>\n",
       "      <td>0.000000</td>\n",
       "      <td>0.000000</td>\n",
       "      <td>-55.511063</td>\n",
       "      <td>0.000000</td>\n",
       "      <td>737.348061</td>\n",
       "      <td>-0.000000</td>\n",
       "      <td>-0.000000</td>\n",
       "      <td>-0.000000e+00</td>\n",
       "    </tr>\n",
       "    <tr>\n",
       "      <th>451</th>\n",
       "      <td>93.351742</td>\n",
       "      <td>613.054639</td>\n",
       "      <td>0.000000</td>\n",
       "      <td>-0.000000</td>\n",
       "      <td>0.000000</td>\n",
       "      <td>0.000000</td>\n",
       "      <td>-10.418569</td>\n",
       "      <td>0.000000</td>\n",
       "      <td>709.130877</td>\n",
       "      <td>-0.000000</td>\n",
       "      <td>-0.000000</td>\n",
       "      <td>-0.000000e+00</td>\n",
       "    </tr>\n",
       "  </tbody>\n",
       "</table>\n",
       "</div>"
      ],
      "text/plain": [
       "         season           yr        mnth    holiday     weekday  workingday  \\\n",
       "1    560.241616  1019.463494 -128.730627 -86.152781  137.347894   55.212371   \n",
       "51   410.969632   977.019409   -0.000000 -53.448969   91.943437   17.537212   \n",
       "101  370.077089   935.945490    0.000000 -12.161936   48.888634    0.000000   \n",
       "151  332.835717   891.870058    0.000000  -0.000000    0.000000    0.000000   \n",
       "201  298.134448   845.652857    0.000000  -0.000000    0.000000    0.000000   \n",
       "251  258.927201   799.237273    0.000000  -0.000000    0.000000    0.000000   \n",
       "301  217.427513   752.720808    0.000000  -0.000000    0.000000    0.000000   \n",
       "351  175.929845   706.203788    0.000000  -0.000000    0.000000    0.000000   \n",
       "401  134.628497   659.632535    0.000000  -0.000000    0.000000    0.000000   \n",
       "451   93.351742   613.054639    0.000000  -0.000000    0.000000    0.000000   \n",
       "\n",
       "     weathersit        temp       atemp         hum  windspeed(mph)  \\\n",
       "1   -332.369857  376.363236  576.530794 -144.129155     -197.139689   \n",
       "51  -318.125568  322.829934  610.031512  -91.068962     -145.066095   \n",
       "101 -308.805664  269.417263  632.502623  -27.504288      -93.774904   \n",
       "151 -279.616688  211.052030  662.920880   -0.000000      -50.155147   \n",
       "201 -235.571345  124.144807  725.379483   -0.000000      -12.646177   \n",
       "251 -190.821549   72.075938  750.363107   -0.000000       -0.000000   \n",
       "301 -145.713398   37.715365  756.296866   -0.000000       -0.000000   \n",
       "351 -100.605389    3.660938  761.926337   -0.000000       -0.000000   \n",
       "401  -55.511063    0.000000  737.348061   -0.000000       -0.000000   \n",
       "451  -10.418569    0.000000  709.130877   -0.000000       -0.000000   \n",
       "\n",
       "     windspeed(ms)  \n",
       "1    -2.805077e-08  \n",
       "51   -2.298898e-08  \n",
       "101  -2.416520e-08  \n",
       "151  -2.627853e-08  \n",
       "201  -2.787824e-08  \n",
       "251  -0.000000e+00  \n",
       "301  -0.000000e+00  \n",
       "351  -0.000000e+00  \n",
       "401  -0.000000e+00  \n",
       "451  -0.000000e+00  "
      ]
     },
     "execution_count": 15,
     "metadata": {},
     "output_type": "execute_result"
    }
   ],
   "source": [
    "alphas = np.arange(1, 500, 50)\n",
    "\n",
    "coefs_lasso = []\n",
    "coefs_ridge = []\n",
    "\n",
    "for alpha in alphas:\n",
    "    model_L = Lasso(alpha=alpha)\n",
    "    model_L.fit(X,y)\n",
    "    coefs_lasso.append(model_L.coef_)\n",
    "\n",
    "    model_R = Ridge(alpha=alpha)\n",
    "    model_R.fit(X,y)\n",
    "    coefs_ridge.append(model_R.coef_)\n",
    "  \n",
    "coefs_lasso = np.array(coefs_lasso)\n",
    "coefs_ridge = np.array(coefs_ridge)\n",
    "\n",
    "pd_l = pd.DataFrame(coefs_lasso, index=alphas, columns=df.columns[:-1])\n",
    "pd_r = pd.DataFrame(coefs_ridge, index=alphas, columns=df.columns[:-1])\n",
    "pd_l"
   ]
  },
  {
   "cell_type": "code",
   "execution_count": 16,
   "metadata": {
    "colab": {
     "base_uri": "https://localhost:8080/",
     "height": 363
    },
    "executionInfo": {
     "elapsed": 64,
     "status": "ok",
     "timestamp": 1660528134997,
     "user": {
      "displayName": "Oleksandr UTCHENKO",
      "userId": "08192551229335428030"
     },
     "user_tz": -180
    },
    "id": "A4_5YzF85UCt",
    "outputId": "03583e6a-89ed-4e07-8f5f-4db0a0aae5c7"
   },
   "outputs": [
    {
     "data": {
      "text/html": [
       "<div>\n",
       "<style scoped>\n",
       "    .dataframe tbody tr th:only-of-type {\n",
       "        vertical-align: middle;\n",
       "    }\n",
       "\n",
       "    .dataframe tbody tr th {\n",
       "        vertical-align: top;\n",
       "    }\n",
       "\n",
       "    .dataframe thead th {\n",
       "        text-align: right;\n",
       "    }\n",
       "</style>\n",
       "<table border=\"1\" class=\"dataframe\">\n",
       "  <thead>\n",
       "    <tr style=\"text-align: right;\">\n",
       "      <th></th>\n",
       "      <th>season</th>\n",
       "      <th>yr</th>\n",
       "      <th>mnth</th>\n",
       "      <th>holiday</th>\n",
       "      <th>weekday</th>\n",
       "      <th>workingday</th>\n",
       "      <th>weathersit</th>\n",
       "      <th>temp</th>\n",
       "      <th>atemp</th>\n",
       "      <th>hum</th>\n",
       "      <th>windspeed(mph)</th>\n",
       "      <th>windspeed(ms)</th>\n",
       "    </tr>\n",
       "  </thead>\n",
       "  <tbody>\n",
       "    <tr>\n",
       "      <th>1</th>\n",
       "      <td>563.064572</td>\n",
       "      <td>1018.948379</td>\n",
       "      <td>-131.873320</td>\n",
       "      <td>-86.746098</td>\n",
       "      <td>138.005111</td>\n",
       "      <td>55.903110</td>\n",
       "      <td>-332.349788</td>\n",
       "      <td>386.457889</td>\n",
       "      <td>566.347047</td>\n",
       "      <td>-145.071327</td>\n",
       "      <td>-99.259441</td>\n",
       "      <td>-99.259441</td>\n",
       "    </tr>\n",
       "    <tr>\n",
       "      <th>51</th>\n",
       "      <td>461.178632</td>\n",
       "      <td>954.307742</td>\n",
       "      <td>-41.565450</td>\n",
       "      <td>-84.913470</td>\n",
       "      <td>126.603667</td>\n",
       "      <td>54.251691</td>\n",
       "      <td>-313.275151</td>\n",
       "      <td>458.901477</td>\n",
       "      <td>481.443500</td>\n",
       "      <td>-151.291010</td>\n",
       "      <td>-101.627315</td>\n",
       "      <td>-101.627315</td>\n",
       "    </tr>\n",
       "    <tr>\n",
       "      <th>101</th>\n",
       "      <td>403.976530</td>\n",
       "      <td>898.083622</td>\n",
       "      <td>5.674243</td>\n",
       "      <td>-81.911062</td>\n",
       "      <td>117.941411</td>\n",
       "      <td>52.728484</td>\n",
       "      <td>-298.408981</td>\n",
       "      <td>455.289868</td>\n",
       "      <td>467.431417</td>\n",
       "      <td>-152.686051</td>\n",
       "      <td>-102.101671</td>\n",
       "      <td>-102.101671</td>\n",
       "    </tr>\n",
       "    <tr>\n",
       "      <th>151</th>\n",
       "      <td>366.604239</td>\n",
       "      <td>848.463465</td>\n",
       "      <td>34.027283</td>\n",
       "      <td>-78.771965</td>\n",
       "      <td>110.680120</td>\n",
       "      <td>51.257192</td>\n",
       "      <td>-286.125159</td>\n",
       "      <td>447.479825</td>\n",
       "      <td>455.754030</td>\n",
       "      <td>-151.483206</td>\n",
       "      <td>-102.005376</td>\n",
       "      <td>-102.005376</td>\n",
       "    </tr>\n",
       "    <tr>\n",
       "      <th>201</th>\n",
       "      <td>339.745290</td>\n",
       "      <td>804.251048</td>\n",
       "      <td>52.489873</td>\n",
       "      <td>-75.717408</td>\n",
       "      <td>104.403464</td>\n",
       "      <td>49.841895</td>\n",
       "      <td>-275.486095</td>\n",
       "      <td>438.509689</td>\n",
       "      <td>444.764274</td>\n",
       "      <td>-148.943970</td>\n",
       "      <td>-101.586385</td>\n",
       "      <td>-101.586385</td>\n",
       "    </tr>\n",
       "    <tr>\n",
       "      <th>251</th>\n",
       "      <td>319.158641</td>\n",
       "      <td>764.561434</td>\n",
       "      <td>65.152007</td>\n",
       "      <td>-72.819708</td>\n",
       "      <td>98.878804</td>\n",
       "      <td>48.484525</td>\n",
       "      <td>-266.002556</td>\n",
       "      <td>429.214123</td>\n",
       "      <td>434.235235</td>\n",
       "      <td>-145.698115</td>\n",
       "      <td>-100.964711</td>\n",
       "      <td>-100.964711</td>\n",
       "    </tr>\n",
       "    <tr>\n",
       "      <th>301</th>\n",
       "      <td>302.636060</td>\n",
       "      <td>728.708540</td>\n",
       "      <td>74.138281</td>\n",
       "      <td>-70.098983</td>\n",
       "      <td>93.955811</td>\n",
       "      <td>47.185338</td>\n",
       "      <td>-257.390629</td>\n",
       "      <td>419.926152</td>\n",
       "      <td>424.121922</td>\n",
       "      <td>-142.089345</td>\n",
       "      <td>-100.208620</td>\n",
       "      <td>-100.208620</td>\n",
       "    </tr>\n",
       "    <tr>\n",
       "      <th>351</th>\n",
       "      <td>288.913276</td>\n",
       "      <td>696.145816</td>\n",
       "      <td>80.660457</td>\n",
       "      <td>-67.554852</td>\n",
       "      <td>89.528675</td>\n",
       "      <td>45.943467</td>\n",
       "      <td>-249.471395</td>\n",
       "      <td>410.800184</td>\n",
       "      <td>414.409373</td>\n",
       "      <td>-138.316538</td>\n",
       "      <td>-99.360661</td>\n",
       "      <td>-99.360661</td>\n",
       "    </tr>\n",
       "    <tr>\n",
       "      <th>401</th>\n",
       "      <td>277.213216</td>\n",
       "      <td>666.429747</td>\n",
       "      <td>85.459254</td>\n",
       "      <td>-65.178706</td>\n",
       "      <td>85.518667</td>\n",
       "      <td>44.757303</td>\n",
       "      <td>-242.124399</td>\n",
       "      <td>401.911945</td>\n",
       "      <td>405.085853</td>\n",
       "      <td>-134.499038</td>\n",
       "      <td>-98.449064</td>\n",
       "      <td>-98.449064</td>\n",
       "    </tr>\n",
       "    <tr>\n",
       "      <th>451</th>\n",
       "      <td>267.031090</td>\n",
       "      <td>639.195368</td>\n",
       "      <td>89.012323</td>\n",
       "      <td>-62.958906</td>\n",
       "      <td>81.864909</td>\n",
       "      <td>43.624770</td>\n",
       "      <td>-235.263997</td>\n",
       "      <td>393.297986</td>\n",
       "      <td>396.138155</td>\n",
       "      <td>-130.709872</td>\n",
       "      <td>-97.493434</td>\n",
       "      <td>-97.493434</td>\n",
       "    </tr>\n",
       "  </tbody>\n",
       "</table>\n",
       "</div>"
      ],
      "text/plain": [
       "         season           yr        mnth    holiday     weekday  workingday  \\\n",
       "1    563.064572  1018.948379 -131.873320 -86.746098  138.005111   55.903110   \n",
       "51   461.178632   954.307742  -41.565450 -84.913470  126.603667   54.251691   \n",
       "101  403.976530   898.083622    5.674243 -81.911062  117.941411   52.728484   \n",
       "151  366.604239   848.463465   34.027283 -78.771965  110.680120   51.257192   \n",
       "201  339.745290   804.251048   52.489873 -75.717408  104.403464   49.841895   \n",
       "251  319.158641   764.561434   65.152007 -72.819708   98.878804   48.484525   \n",
       "301  302.636060   728.708540   74.138281 -70.098983   93.955811   47.185338   \n",
       "351  288.913276   696.145816   80.660457 -67.554852   89.528675   45.943467   \n",
       "401  277.213216   666.429747   85.459254 -65.178706   85.518667   44.757303   \n",
       "451  267.031090   639.195368   89.012323 -62.958906   81.864909   43.624770   \n",
       "\n",
       "     weathersit        temp       atemp         hum  windspeed(mph)  \\\n",
       "1   -332.349788  386.457889  566.347047 -145.071327      -99.259441   \n",
       "51  -313.275151  458.901477  481.443500 -151.291010     -101.627315   \n",
       "101 -298.408981  455.289868  467.431417 -152.686051     -102.101671   \n",
       "151 -286.125159  447.479825  455.754030 -151.483206     -102.005376   \n",
       "201 -275.486095  438.509689  444.764274 -148.943970     -101.586385   \n",
       "251 -266.002556  429.214123  434.235235 -145.698115     -100.964711   \n",
       "301 -257.390629  419.926152  424.121922 -142.089345     -100.208620   \n",
       "351 -249.471395  410.800184  414.409373 -138.316538      -99.360661   \n",
       "401 -242.124399  401.911945  405.085853 -134.499038      -98.449064   \n",
       "451 -235.263997  393.297986  396.138155 -130.709872      -97.493434   \n",
       "\n",
       "     windspeed(ms)  \n",
       "1       -99.259441  \n",
       "51     -101.627315  \n",
       "101    -102.101671  \n",
       "151    -102.005376  \n",
       "201    -101.586385  \n",
       "251    -100.964711  \n",
       "301    -100.208620  \n",
       "351     -99.360661  \n",
       "401     -98.449064  \n",
       "451     -97.493434  "
      ]
     },
     "execution_count": 16,
     "metadata": {},
     "output_type": "execute_result"
    }
   ],
   "source": [
    "pd_r"
   ]
  },
  {
   "cell_type": "markdown",
   "metadata": {
    "id": "vR3hawHAF0cs"
   },
   "source": [
    "Проанализируйте динамику весов при увеличении параметра регуляризации:"
   ]
  },
  {
   "cell_type": "code",
   "execution_count": 17,
   "metadata": {
    "colab": {
     "base_uri": "https://localhost:8080/",
     "height": 683
    },
    "executionInfo": {
     "elapsed": 60,
     "status": "ok",
     "timestamp": 1660528134998,
     "user": {
      "displayName": "Oleksandr UTCHENKO",
      "userId": "08192551229335428030"
     },
     "user_tz": -180
    },
    "id": "rijH4f-VF0cs",
    "outputId": "791e8b04-f713-407f-f059-e5dd2f999c1c"
   },
   "outputs": [
    {
     "data": {
      "image/png": "[encoded data removed]",
      "text/plain": [
       "<Figure size 576x360 with 1 Axes>"
      ]
     },
     "metadata": {
      "needs_background": "light"
     },
     "output_type": "display_data"
    },
    {
     "data": {
      "image/png": "[encoded data removed]",
      "text/plain": [
       "<Figure size 576x360 with 1 Axes>"
      ]
     },
     "metadata": {
      "needs_background": "light"
     },
     "output_type": "display_data"
    }
   ],
   "source": [
    "plt.figure(figsize=(8, 5))\n",
    "\n",
    "for coef, feature in zip(coefs_lasso.T, df.columns):\n",
    "    plt.plot(alphas, coef, label=feature, color=np.random.rand(3))\n",
    "\n",
    "plt.legend(loc=\"upper right\", bbox_to_anchor=(1.4, 0.95))\n",
    "plt.xlabel(\"alpha\")\n",
    "plt.ylabel(\"feature weight\")\n",
    "plt.title(\"Lasso\")\n",
    "\n",
    "plt.figure(figsize=(8, 5))\n",
    "for coef, feature in zip(coefs_ridge.T, df.columns):\n",
    "    plt.plot(alphas, coef, label=feature, color=np.random.rand(3))\n",
    "\n",
    "plt.legend(loc=\"upper right\", bbox_to_anchor=(1.4, 0.95))\n",
    "plt.xlabel(\"alpha\")\n",
    "plt.ylabel(\"feature weight\")\n",
    "plt.title(\"Ridge\")\n",
    "\n",
    "plt.show()"
   ]
  },
  {
   "cell_type": "markdown",
   "metadata": {
    "id": "wDCadrLbF0cs"
   },
   "source": [
    "Проанализируйте графики и дайте ответы на следующие вопросы.\n",
    "\n",
    "1. Какой регуляризатор (Ridge или Lasso) агрессивнее уменьшает веса при одном и том же alpha?\n",
    "1. Что произойдет с весами Lasso, если alpha сделать очень большим? Поясните, почему так происходит.\n",
    "1. Можно ли утверждать, что `Lasso` исключает один из признаков `windspeed` при любом значении `alpha > 0`? А Ridge? Считается, что регуляризатор исключает признак, если коэффициент при нем меньше $10^{-3}$.\n",
    "1. Какой из регуляризаторов подойдет для отбора неинформативных признаков?"
   ]
  },
  {
   "cell_type": "markdown",
   "metadata": {
    "id": "Iq0dGnAELMHs"
   },
   "source": [
    "Відповіді:\n",
    "  1. Lasso агресивніше зменшує ваги при тих самих альфа.\n",
    "  2. При дуже великих альфа ваги наближуються до нуля, особливо невпливові показники. Бо при збільшені альфа зменшується складність моделі і при цьому занулюються показникі.\n",
    "  3. Так. Ridge - ні. \n",
    "  4. Lasso (L1)"
   ]
  },
  {
   "cell_type": "markdown",
   "metadata": {
    "id": "IEmB7CPtF0ct"
   },
   "source": [
    "### Задание 8\n",
    "\n",
    "Далее будем работать с `Lasso`.\n",
    "\n",
    "Итак, мы видим, что при изменении alpha модель по-разному подбирает коэффициенты признаков. Нам нужно выбрать наилучшее alpha.\n",
    "\n",
    "Для этого, во-первых, нам нужна метрика качества. Будем использовать в качестве метрики сам оптимизируемый функционал метода наименьших квадратов, то есть `Mean Square Error`.\n",
    "\n",
    "Во-вторых, нужно понять, на каких данных эту метрику считать. Нельзя выбирать `alpha` по значению MSE на обучающей выборке, потому что тогда мы не сможем оценить, как модель будет делать предсказания на новых для нее данных. Если мы выберем одно разбиение выборки на обучающую и тестовую (это называется holdout), то настроимся на конкретные \"новые\" данные, и вновь можем переобучиться. Поэтому будем делать несколько разбиений выборки, на каждом пробовать разные значения alpha, а затем усреднять MSE. Удобнее всего делать такие разбиения кросс-валидацией, то есть разделить выборку на $K$ часте, и каждый раз брать одну из них как тестовую, а из оставшихся блоков составлять обучающую выборку. "
   ]
  },
  {
   "cell_type": "markdown",
   "metadata": {
    "id": "wyOFogflF0ct"
   },
   "source": [
    "Делать кросс-валидацию для регрессии в sklearn совсем просто: для этого есть специальный регрессор, __LassoCV__, который берет на вход список из alpha и для каждого из них вычисляет MSE на кросс-валидации. После обучения (если оставить параметр cv=3 по умолчанию) регрессор будет содержать переменную __mse\\_path\\___, матрицу размера len(alpha) x k, k = 3 (число блоков в кросс-валидации), содержащую значения MSE на тесте для соответствующих запусков. Кроме того, в переменной alpha\\_ будет храниться выбранное значение параметра регуляризации, а в coef\\_, традиционно, обученные веса, соответствующие этому alpha_.\n",
    "\n",
    "Обратите внимание, что регрессор может менять порядок, в котором он проходит по alphas; для сопоставления с матрицей MSE лучше использовать переменную регрессора alphas_."
   ]
  },
  {
   "cell_type": "markdown",
   "metadata": {
    "id": "_aUw0GmkF0ct"
   },
   "source": [
    "Обучите регрессор `LassoCV` на всех параметрах регуляризации из alpha. Постройте график _усредненного_ по строкам `MSE` в зависимости от `alpha` (используйте для этого функцию `create_plot`).\n",
    "\n",
    "Выведите выбранное `alpha`, а также пары \"признак-коэффициент\" для обученного вектора коэффициентов."
   ]
  },
  {
   "cell_type": "code",
   "execution_count": 18,
   "metadata": {
    "executionInfo": {
     "elapsed": 246,
     "status": "ok",
     "timestamp": 1660528169502,
     "user": {
      "displayName": "Oleksandr UTCHENKO",
      "userId": "08192551229335428030"
     },
     "user_tz": -180
    },
    "id": "L5MVKdVPF0cu"
   },
   "outputs": [],
   "source": [
    "def create_plot(data, title, xlabel, ylabel, figsize=None):\n",
    "    size = figsize or (15, 5)\n",
    "    plt.figure(figsize=size)\n",
    "\n",
    "    x = list(map(lambda e: e[0], data))\n",
    "    y = list(map(lambda e: e[1], data))\n",
    "    plt.plot(x, y)\n",
    "\n",
    "    plt.title(title)\n",
    "    plt.xlabel(xlabel)\n",
    "    plt.ylabel(ylabel)\n",
    "\n",
    "    plt.grid()\n",
    "    plt.show()"
   ]
  },
  {
   "cell_type": "code",
   "execution_count": 19,
   "metadata": {
    "colab": {
     "base_uri": "https://localhost:8080/",
     "height": 387
    },
    "executionInfo": {
     "elapsed": 950,
     "status": "ok",
     "timestamp": 1660529882180,
     "user": {
      "displayName": "Oleksandr UTCHENKO",
      "userId": "08192551229335428030"
     },
     "user_tz": -180
    },
    "id": "lYIKXzG5F0cu",
    "outputId": "893e0977-3bfc-4cde-d46b-d1389231035b"
   },
   "outputs": [
    {
     "name": "stdout",
     "output_type": "stream",
     "text": [
      "[(96, 851990.7226862255), (91, 846392.1588364638), (86, 840822.7945299619), (81, 835574.3424234908), (76, 830286.6292664981), (71, 825198.482001015), (66, 820159.7018859923), (61, 815491.238437146), (56, 811192.9043818461), (51, 807264.7026273542), (46, 803575.5866471976), (41, 800211.2474620753), (36, 797217.5699930106), (31, 794594.5606672271), (26, 792342.1957655511), (21, 789464.6632025443), (16, 786750.8408386445), (11, 783634.3772912043), (6, 781531.0908199245), (1, 785055.1467870072)]\n"
     ]
    },
    {
     "data": {
      "image/png": "[encoded data removed]",
      "text/plain": [
       "<Figure size 1080x360 with 1 Axes>"
      ]
     },
     "metadata": {
      "needs_background": "light"
     },
     "output_type": "display_data"
    }
   ],
   "source": [
    "from sklearn.linear_model import LassoCV\n",
    "\n",
    "alphas = np.arange(1, 100, 5)\n",
    "\n",
    "regressor = LassoCV(alphas=alphas, cv=3)\n",
    "regressor.fit(X, y)\n",
    "\n",
    "mse_mean = []\n",
    "for row in regressor.mse_path_:\n",
    "  mse_mean.append(row.mean())\n",
    "\n",
    "data = list(zip(regressor.alphas_, np.array(mse_mean)))\n",
    "print(data)\n",
    "create_plot(data, 'MSE from alphas after CV', 'alpha', 'MSE_mean')\n"
   ]
  },
  {
   "cell_type": "code",
   "execution_count": 20,
   "metadata": {
    "colab": {
     "base_uri": "https://localhost:8080/"
    },
    "executionInfo": {
     "elapsed": 602,
     "status": "ok",
     "timestamp": 1660529893624,
     "user": {
      "displayName": "Oleksandr UTCHENKO",
      "userId": "08192551229335428030"
     },
     "user_tz": -180
    },
    "id": "xpOcCgsbMkkb",
    "outputId": "bbf05138-583e-4097-cbf3-526185b96f5d"
   },
   "outputs": [
    {
     "data": {
      "text/plain": [
       "6"
      ]
     },
     "execution_count": 20,
     "metadata": {},
     "output_type": "execute_result"
    }
   ],
   "source": [
    "regressor.alpha_"
   ]
  },
  {
   "cell_type": "code",
   "execution_count": 21,
   "metadata": {
    "colab": {
     "base_uri": "https://localhost:8080/"
    },
    "executionInfo": {
     "elapsed": 257,
     "status": "ok",
     "timestamp": 1660529901874,
     "user": {
      "displayName": "Oleksandr UTCHENKO",
      "userId": "08192551229335428030"
     },
     "user_tz": -180
    },
    "id": "MetevD61NF_i",
    "outputId": "02b73621-69e2-4ae2-c611-cd7b817bbac6"
   },
   "outputs": [
    {
     "data": {
      "text/plain": [
       "[('season', 532.0189828413537),\n",
       " ('yr', 1015.0602226430597),\n",
       " ('mnth', -100.03952614356638),\n",
       " ('holiday', -83.29395987529907),\n",
       " ('weekday', 132.50446549095793),\n",
       " ('workingday', 51.55708561407392),\n",
       " ('weathersit', -330.5598567399813),\n",
       " ('temp', 370.6798550300334),\n",
       " ('atemp', 581.3969310654987),\n",
       " ('hum', -140.00740550068866),\n",
       " ('windspeed(mph)', -191.77140847134925),\n",
       " ('windspeed(ms)', -2.6855907924014633e-08)]"
      ]
     },
     "execution_count": 21,
     "metadata": {},
     "output_type": "execute_result"
    }
   ],
   "source": [
    "weights_regressor = zip(df.columns, regressor.coef_)\n",
    "list(weights_regressor)"
   ]
  },
  {
   "cell_type": "markdown",
   "metadata": {
    "id": "hRoEnDtfF0cu"
   },
   "source": [
    "Итак, мы выбрали некоторый параметр регуляризации. Давайте посмотрим, какие бы мы выбирали alpha, если бы делили выборку только один раз на обучающую и тестовую, то есть рассмотрим траектории MSE, соответствующие отдельным блокам выборки."
   ]
  },
  {
   "cell_type": "markdown",
   "metadata": {
    "id": "Jvl3XiPmF0cu"
   },
   "source": [
    "### Задание 9\n",
    "\n",
    "Выведите значения `alpha`, соответствующие минимумам `MSE` на каждом разбиении (то есть по столбцам).\n",
    "На трех отдельных графиках визуализируйте столбцы `mse_path_`.\n"
   ]
  },
  {
   "cell_type": "code",
   "execution_count": 22,
   "metadata": {
    "colab": {
     "base_uri": "https://localhost:8080/"
    },
    "executionInfo": {
     "elapsed": 301,
     "status": "ok",
     "timestamp": 1660531875324,
     "user": {
      "displayName": "Oleksandr UTCHENKO",
      "userId": "08192551229335428030"
     },
     "user_tz": -180
    },
    "id": "cpiFOLHHF0cu",
    "outputId": "e528eb94-757d-4fdc-987c-f83e221937fb"
   },
   "outputs": [
    {
     "name": "stdout",
     "output_type": "stream",
     "text": [
      "Вибірка 1:\n",
      "     alphas            MSE\n",
      "18       6  733725.760405\n",
      "Вибірка 2:\n",
      "     alphas            MSE\n",
      "19       1  799433.167369\n",
      "Вибірка 3:\n",
      "    alphas            MSE\n",
      "9      51  796979.895519\n"
     ]
    }
   ],
   "source": [
    "data_1 = pd.DataFrame({\"alphas\": regressor.alphas_, \"MSE\": regressor.mse_path_[0:,0]})\n",
    "data_2 = pd.DataFrame({\"alphas\": regressor.alphas_, \"MSE\": regressor.mse_path_[0:,1]})\n",
    "data_3 = pd.DataFrame({\"alphas\": regressor.alphas_, \"MSE\": regressor.mse_path_[0:,2]})\n",
    "print(f'Вибірка 1:\\n {data_1[data_1[\"MSE\"] == data_1[\"MSE\"].min()]}')\n",
    "print(f'Вибірка 2:\\n {data_2[data_2[\"MSE\"] == data_2[\"MSE\"].min()]}')\n",
    "print(f'Вибірка 3:\\n {data_3[data_3[\"MSE\"] == data_3[\"MSE\"].min()]}')\n"
   ]
  },
  {
   "cell_type": "code",
   "execution_count": 23,
   "metadata": {
    "colab": {
     "base_uri": "https://localhost:8080/",
     "height": 294
    },
    "executionInfo": {
     "elapsed": 862,
     "status": "ok",
     "timestamp": 1660532638628,
     "user": {
      "displayName": "Oleksandr UTCHENKO",
      "userId": "08192551229335428030"
     },
     "user_tz": -180
    },
    "id": "rBu-Oi7rbkq2",
    "outputId": "c5dc6a05-68a4-4e16-fad2-f175e07e9aa1"
   },
   "outputs": [
    {
     "data": {
      "image/png": "[encoded data removed]",
      "text/plain": [
       "<Figure size 432x288 with 3 Axes>"
      ]
     },
     "metadata": {
      "needs_background": "light"
     },
     "output_type": "display_data"
    }
   ],
   "source": [
    "fig, axs = plt.subplots(3, 1)\n",
    "\n",
    "axs[0].plot(data_1['alphas'], data_1['MSE'], label='set 1')\n",
    "axs[1].plot(data_2['alphas'], data_2['MSE'], label='set 2')\n",
    "axs[2].plot(data_3['alphas'], data_3['MSE'], label='set 3')\n",
    "\n",
    "axs[0].set_title('Set 1', fontsize=7)\n",
    "axs[1].set_title('Set 2', fontsize=7)\n",
    "axs[2].set_title('Set 3', fontsize=7)\n",
    "\n",
    "fig.suptitle('MSE(alpha) for all cross sets', fontsize=15)\n",
    "\n",
    "plt.show()"
   ]
  },
  {
   "cell_type": "markdown",
   "metadata": {
    "id": "UEzEyHA1F0cv"
   },
   "source": [
    "На каждом разбиении оптимальное значение `alpha` свое, и ему соответствует большое MSE на других разбиениях. Получается, что мы настраиваемся на конкретные обучающие и контрольные выборки. При выборе `alpha` на кросс-валидации мы выбираем нечто \"среднее\", что будет давать приемлемое значение метрики на разных разбиениях выборки. "
   ]
  },
  {
   "cell_type": "markdown",
   "metadata": {
    "id": "B6rE566oF0cv"
   },
   "source": [
    "### Задание 10\n",
    "\n",
    "Наконец, как принято в анализе данных, давайте проинтерпретируем результат. Ответьте на следующие вопросы."
   ]
  },
  {
   "cell_type": "markdown",
   "metadata": {
    "id": "SSCcePDSF0cw"
   },
   "source": [
    "#### Вопрос 1\n",
    "\n",
    "В последней обученной модели выберите 4 признака с наибольшими (положительными) коэфициентами (и выпишите их), посмотрите на визуализации зависимостей `cnt` от этих признаков, которые мы рисовали в блоке \"Знакомство с данными\". Видна ли возрастающая линейная зависимость `cnt` от этих признаков по графикам? Логично ли утверждать (из здравого смысла), что чем больше значение этих признаков, тем больше людей захотят взять велосипеды? "
   ]
  },
  {
   "cell_type": "markdown",
   "metadata": {
    "id": "2ikKprKqF0c0"
   },
   "source": [
    "__Ответ:__"
   ]
  },
  {
   "cell_type": "markdown",
   "metadata": {
    "id": "K0jP5oa_evqs"
   },
   "source": [
    "'season', 532.0189828413535\n",
    "'yr', 1015.0602226430595\n",
    "'temp', 370.67985503003405\n",
    "'atemp', 581.396931065498\n",
    " - основні признаки, корреляція є, є зростаюча лініна залежність, логічно"
   ]
  },
  {
   "cell_type": "markdown",
   "metadata": {
    "id": "DkQTu53pF0c0"
   },
   "source": [
    "#### Вопрос 2\n",
    "\n",
    "Выберите 3 признака с наибольшими по модулю отрицательными коэффициентами (и выпишите их), посмотрите на соответствующие визуализации. Видна ли убывающая линейная зависимость? Логично ли утверждать, что чем больше величина этих признаков, тем меньше людей захотят взять велосипеды?"
   ]
  },
  {
   "cell_type": "markdown",
   "metadata": {
    "id": "DUN8I7shF0c0"
   },
   "source": [
    "__Ответ:__"
   ]
  },
  {
   "cell_type": "markdown",
   "metadata": {
    "id": "WX7dRPUmfiWT"
   },
   "source": [
    "('weathersit', -330.5598567399817),\n",
    "('hum', -140.00740550068844),\n",
    "('windspeed(mph)', -191.77140847135036),\n",
    "('mnth', -100.03952614356629)\n",
    "Є негативна лінійна залежність. Логічно\n"
   ]
  },
  {
   "cell_type": "markdown",
   "metadata": {
    "id": "vrbD3fNSF0c1"
   },
   "source": [
    "#### Вопрос 3\n",
    "\n",
    "Выпишите признаки с коэффициентами, близкими к нулю (< 1e-3). Как вы думаете, почему модель исключила их из модели (вновь посмотрите на графики)? Верно ли, что они никак не влияют на спрос на велосипеды?"
   ]
  },
  {
   "cell_type": "markdown",
   "metadata": {
    "id": "tFhvV-jcF0c1"
   },
   "source": [
    "__Ответ:__"
   ]
  },
  {
   "cell_type": "markdown",
   "metadata": {
    "id": "DOlvHz8Gghvx"
   },
   "source": [
    "holiday and working day -> 0. Можливо, як варіант, на вихідних арендують як досуг, а в робочі як транспорт і загалом не сильно виражена залежність"
   ]
  },
  {
   "cell_type": "markdown",
   "metadata": {
    "id": "Wg0VQz5_F0c2"
   },
   "source": [
    "### Заключение\n",
    "Итак, мы посмотрели, как можно следить за адекватностью линейной модели, как отбирать признаки и как грамотно, по возможности не настраиваясь на какую-то конкретную порцию данных, подбирать коэффициент регуляризации. \n",
    "\n",
    "Стоит отметить, что с помощью кросс-валидации удобно подбирать лишь небольшое число параметров (1, 2, максимум 3), потому что для каждой допустимой их комбинации нам приходится несколько раз обучать модель. Такой процесс занимает много времени, особенно если нужно обучаться на больших объемах данных."
   ]
  }
 ],
 "metadata": {
  "anaconda-cloud": {},
  "colab": {
   "collapsed_sections": [],
   "name": "OverfittingHomeWork.ipynb",
   "provenance": []
  },
  "kernelspec": {
   "display_name": "Python 3 (ipykernel)",
   "language": "python",
   "name": "python3"
  },
  "language_info": {
   "codemirror_mode": {
    "name": "ipython",
    "version": 3
   },
   "file_extension": ".py",
   "mimetype": "text/x-python",
   "name": "python",
   "nbconvert_exporter": "python",
   "pygments_lexer": "ipython3",
   "version": "3.9.12"
  }
 },
 "nbformat": 4,
 "nbformat_minor": 1
}
