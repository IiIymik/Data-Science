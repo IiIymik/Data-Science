{
 "cells": [
  {
   "cell_type": "markdown",
   "id": "290744e5",
   "metadata": {},
   "source": [
    "# **TASK 1**"
   ]
  },
  {
   "cell_type": "code",
   "execution_count": null,
   "id": "b27b76e0",
   "metadata": {},
   "outputs": [],
   "source": [
    "import numpy as np"
   ]
  },
  {
   "cell_type": "markdown",
   "id": "3e75dab5",
   "metadata": {},
   "source": [
    "0.05x + 0.07y + 0z = 2250\n",
    "\n",
    "0.05x + 0y + 0.06z = 1400\n",
    "\n",
    "x + y + z = 50000"
   ]
  },
  {
   "cell_type": "code",
   "execution_count": 8,
   "id": "f63b2fa9",
   "metadata": {},
   "outputs": [],
   "source": [
    "A = np.array([[0.05, 0.07, 0], [0.05, 0, 0.06], [1, 1, 1]])"
   ]
  },
  {
   "cell_type": "code",
   "execution_count": 9,
   "id": "b3dbb800",
   "metadata": {},
   "outputs": [
    {
     "data": {
      "text/plain": [
       "array([[0.05, 0.07, 0.  ],\n",
       "       [0.05, 0.  , 0.06],\n",
       "       [1.  , 1.  , 1.  ]])"
      ]
     },
     "execution_count": 9,
     "metadata": {},
     "output_type": "execute_result"
    }
   ],
   "source": [
    "A"
   ]
  },
  {
   "cell_type": "code",
   "execution_count": 11,
   "id": "602de8af",
   "metadata": {},
   "outputs": [],
   "source": [
    "B = np.array([2250, 1400, 50000], dtype=float)"
   ]
  },
  {
   "cell_type": "code",
   "execution_count": 12,
   "id": "ae6e7873",
   "metadata": {},
   "outputs": [
    {
     "data": {
      "text/plain": [
       "array([ 2250.,  1400., 50000.])"
      ]
     },
     "execution_count": 12,
     "metadata": {},
     "output_type": "execute_result"
    }
   ],
   "source": [
    "B"
   ]
  },
  {
   "cell_type": "code",
   "execution_count": 15,
   "id": "60f2e0b4",
   "metadata": {},
   "outputs": [
    {
     "data": {
      "text/plain": [
       "array([10000., 25000., 15000.])"
      ]
     },
     "execution_count": 15,
     "metadata": {},
     "output_type": "execute_result"
    }
   ],
   "source": [
    "np.linalg.solve(A,B)"
   ]
  },
  {
   "cell_type": "markdown",
   "id": "b3e771ae",
   "metadata": {},
   "source": [
    "# TASK 2"
   ]
  },
  {
   "cell_type": "markdown",
   "id": "864cbd53",
   "metadata": {},
   "source": [
    "x + y + z = 1328\n",
    "\n",
    "x - y = - 120\n",
    "\n",
    "x - z = 100"
   ]
  },
  {
   "cell_type": "code",
   "execution_count": 16,
   "id": "295c4329",
   "metadata": {},
   "outputs": [],
   "source": [
    "A = np.array([[1,1,1],[1,-1,0],[1,0,-1]])"
   ]
  },
  {
   "cell_type": "code",
   "execution_count": 17,
   "id": "6cbe97f9",
   "metadata": {},
   "outputs": [
    {
     "data": {
      "text/plain": [
       "array([[ 1,  1,  1],\n",
       "       [ 1, -1,  0],\n",
       "       [ 1,  0, -1]])"
      ]
     },
     "execution_count": 17,
     "metadata": {},
     "output_type": "execute_result"
    }
   ],
   "source": [
    "A"
   ]
  },
  {
   "cell_type": "code",
   "execution_count": 18,
   "id": "a979ea3b",
   "metadata": {},
   "outputs": [],
   "source": [
    "b = np.array([1328,-120,100])"
   ]
  },
  {
   "cell_type": "code",
   "execution_count": 19,
   "id": "71ec8dcc",
   "metadata": {},
   "outputs": [
    {
     "data": {
      "text/plain": [
       "array([1328, -120,  100])"
      ]
     },
     "execution_count": 19,
     "metadata": {},
     "output_type": "execute_result"
    }
   ],
   "source": [
    "b"
   ]
  },
  {
   "cell_type": "code",
   "execution_count": 20,
   "id": "6366385b",
   "metadata": {},
   "outputs": [
    {
     "data": {
      "text/plain": [
       "array([436., 556., 336.])"
      ]
     },
     "execution_count": 20,
     "metadata": {},
     "output_type": "execute_result"
    }
   ],
   "source": [
    "np.linalg.solve(A,b)"
   ]
  },
  {
   "cell_type": "markdown",
   "id": "a620c2e2",
   "metadata": {},
   "source": [
    "Solution:\n",
    "\n",
    "- 436 items of iphone 6,\n",
    "\n",
    "- 556 items of iphone 11,\n",
    "\n",
    "- 336 items of iphone 12"
   ]
  },
  {
   "cell_type": "markdown",
   "id": "2d3b07a8",
   "metadata": {},
   "source": [
    "# TASK 3"
   ]
  },
  {
   "cell_type": "markdown",
   "id": "9b78e91a",
   "metadata": {},
   "source": [
    "Пусть x1 = 1/a^2; x2 = 1/b^2; x3 = 1/c^2; тогда составим систему линенйных уравнений, подставив значения координат точек:\n",
    "\n",
    "3x1 + 0x2 + 3*x3 = 1\n",
    "\n",
    "6x1 + 0.25x2 + 0*x3 = 1\n",
    "\n",
    "1x1 + 0.33x2 + 1*x3 = 1"
   ]
  },
  {
   "cell_type": "code",
   "execution_count": 21,
   "id": "4ad882c0",
   "metadata": {},
   "outputs": [],
   "source": [
    "A = np.array([[3,0,3],[6,0.25,0],[1,0.33,1]])"
   ]
  },
  {
   "cell_type": "code",
   "execution_count": 22,
   "id": "10cdf936",
   "metadata": {},
   "outputs": [
    {
     "data": {
      "text/plain": [
       "array([[3.  , 0.  , 3.  ],\n",
       "       [6.  , 0.25, 0.  ],\n",
       "       [1.  , 0.33, 1.  ]])"
      ]
     },
     "execution_count": 22,
     "metadata": {},
     "output_type": "execute_result"
    }
   ],
   "source": [
    "A"
   ]
  },
  {
   "cell_type": "code",
   "execution_count": 23,
   "id": "e174d43e",
   "metadata": {},
   "outputs": [],
   "source": [
    "b = np.array([1,1,1])"
   ]
  },
  {
   "cell_type": "code",
   "execution_count": 24,
   "id": "b4743d36",
   "metadata": {},
   "outputs": [
    {
     "data": {
      "text/plain": [
       "array([1, 1, 1])"
      ]
     },
     "execution_count": 24,
     "metadata": {},
     "output_type": "execute_result"
    }
   ],
   "source": [
    "b"
   ]
  },
  {
   "cell_type": "code",
   "execution_count": 25,
   "id": "a374c907",
   "metadata": {},
   "outputs": [],
   "source": [
    "soln = np.linalg.solve(A,b)"
   ]
  },
  {
   "cell_type": "code",
   "execution_count": 27,
   "id": "5a5a7a0b",
   "metadata": {},
   "outputs": [
    {
     "data": {
      "text/plain": [
       "array([0.08249158, 2.02020202, 0.25084175])"
      ]
     },
     "execution_count": 27,
     "metadata": {},
     "output_type": "execute_result"
    }
   ],
   "source": [
    "soln"
   ]
  },
  {
   "cell_type": "code",
   "execution_count": 28,
   "id": "ea647489",
   "metadata": {},
   "outputs": [],
   "source": [
    "a2 = 1 / soln[0]\n",
    "b2 = 1 / soln[1]\n",
    "c2 = 1 / soln[2]"
   ]
  },
  {
   "cell_type": "code",
   "execution_count": 29,
   "id": "9864edc2",
   "metadata": {},
   "outputs": [
    {
     "data": {
      "text/plain": [
       "(12.122448979591837, 0.495, 3.9865771812080535)"
      ]
     },
     "execution_count": 29,
     "metadata": {},
     "output_type": "execute_result"
    }
   ],
   "source": [
    "a2, b2, c2"
   ]
  },
  {
   "cell_type": "markdown",
   "id": "696d2956",
   "metadata": {},
   "source": [
    "# Task 4"
   ]
  },
  {
   "cell_type": "markdown",
   "id": "307a99cf",
   "metadata": {},
   "source": [
    "a + b + c = 12\n",
    "\n",
    "9a + 3b + c = 54\n",
    "\n",
    "a - b + c = 2"
   ]
  },
  {
   "cell_type": "code",
   "execution_count": 30,
   "id": "96cd71b9",
   "metadata": {},
   "outputs": [],
   "source": [
    "A = np.array([[1,1,1],[9,3,1],[1,-1,1]])"
   ]
  },
  {
   "cell_type": "code",
   "execution_count": 31,
   "id": "c9b402ab",
   "metadata": {},
   "outputs": [
    {
     "data": {
      "text/plain": [
       "array([[ 1,  1,  1],\n",
       "       [ 9,  3,  1],\n",
       "       [ 1, -1,  1]])"
      ]
     },
     "execution_count": 31,
     "metadata": {},
     "output_type": "execute_result"
    }
   ],
   "source": [
    "A"
   ]
  },
  {
   "cell_type": "code",
   "execution_count": 32,
   "id": "9ce843f0",
   "metadata": {},
   "outputs": [],
   "source": [
    "b = np.array([12,54,2])"
   ]
  },
  {
   "cell_type": "code",
   "execution_count": 33,
   "id": "93384cf4",
   "metadata": {},
   "outputs": [
    {
     "data": {
      "text/plain": [
       "array([12, 54,  2])"
      ]
     },
     "execution_count": 33,
     "metadata": {},
     "output_type": "execute_result"
    }
   ],
   "source": [
    "b"
   ]
  },
  {
   "cell_type": "code",
   "execution_count": 34,
   "id": "a0687a7a",
   "metadata": {},
   "outputs": [
    {
     "data": {
      "text/plain": [
       "array([4., 5., 3.])"
      ]
     },
     "execution_count": 34,
     "metadata": {},
     "output_type": "execute_result"
    }
   ],
   "source": [
    "results = np.linalg.solve(A,b)\n",
    "results"
   ]
  },
  {
   "cell_type": "markdown",
   "id": "8d37c4a4",
   "metadata": {},
   "source": [
    "Answer: y = 4x^2 + 5x + 3"
   ]
  },
  {
   "cell_type": "markdown",
   "id": "8434443b",
   "metadata": {},
   "source": [
    "# Task 5"
   ]
  },
  {
   "cell_type": "code",
   "execution_count": 35,
   "id": "9963a271",
   "metadata": {},
   "outputs": [],
   "source": [
    "def get_polynom(coords):\n",
    "    if len(coords) <= 2:\n",
    "        return \"more than 2 dots are needed\"\n",
    "    if len(coords) > 2:\n",
    "        x = []\n",
    "        y = []\n",
    "        for i in coords:\n",
    "            x.append(i[0])\n",
    "            y.append(i[1])\n",
    "        p = np.poly1d(np.polyfit(x, y, len(coords)-1))\n",
    "        return p"
   ]
  },
  {
   "cell_type": "code",
   "execution_count": 36,
   "id": "274df242",
   "metadata": {},
   "outputs": [
    {
     "name": "stdout",
     "output_type": "stream",
     "text": [
      "         4          3         2\n",
      "0.01181 x - 0.2465 x + 1.441 x - 2.031 x + 0.825\n"
     ]
    }
   ],
   "source": [
    "coords = ((1,0), (3,2), (4,3), (7,1), (9, -3))\n",
    "print(get_polynom(coords))"
   ]
  }
 ],
 "metadata": {
  "kernelspec": {
   "display_name": "Python 3 (ipykernel)",
   "language": "python",
   "name": "python3"
  },
  "language_info": {
   "codemirror_mode": {
    "name": "ipython",
    "version": 3
   },
   "file_extension": ".py",
   "mimetype": "text/x-python",
   "name": "python",
   "nbconvert_exporter": "python",
   "pygments_lexer": "ipython3",
   "version": "3.9.12"
  }
 },
 "nbformat": 4,
 "nbformat_minor": 5
}
